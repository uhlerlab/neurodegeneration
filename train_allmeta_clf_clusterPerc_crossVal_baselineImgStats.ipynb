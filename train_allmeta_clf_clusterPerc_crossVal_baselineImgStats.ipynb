{
 "cells": [
  {
   "cell_type": "code",
   "execution_count": 1,
   "metadata": {},
   "outputs": [
    {
     "name": "stderr",
     "output_type": "stream",
     "text": [
      "/home/xzhang/anaconda3/envs/c2p/lib/python3.10/site-packages/pandas/core/arrays/masked.py:60: UserWarning: Pandas requires version '1.3.6' or newer of 'bottleneck' (version '1.3.5' currently installed).\n",
      "  from pandas.core import (\n"
     ]
    }
   ],
   "source": [
    "import time\n",
    "import os\n",
    "\n",
    "import scanpy\n",
    "import numpy as np\n",
    "import scipy.sparse as sp\n",
    "\n",
    "import torch\n",
    "from torch import optim\n",
    "from torch.utils.data import DataLoader\n",
    "\n",
    "import models.modelsCNN as modelsCNN\n",
    "import models.optimizer as optimizer\n",
    "\n",
    "import pickle\n",
    "import matplotlib.pyplot as plt\n",
    "import seaborn as sns\n",
    "import pandas as pd\n",
    "import gc\n",
    "from skimage import io\n",
    "import scipy.stats\n",
    "import utils.plot\n",
    "import models.train_metaClf\n",
    "import models.clusterUtils"
   ]
  },
  {
   "cell_type": "code",
   "execution_count": 2,
   "metadata": {},
   "outputs": [],
   "source": [
    "os.environ[\"CUDA_VISIBLE_DEVICES\"] = '1'\n",
    "savedir_processed='/data/xzhang/neuro/processed'\n",
    "resDir='/data/xzhang/neuro/results/plots/cnnvaeexp0_segNucall'\n",
    "    \n",
    "with open(os.path.join(savedir_processed,'meta_processed'), 'rb') as output:\n",
    "    meta=pickle.load(output)\n",
    "\n",
    "# annoUsed=np.array(['AAO', 'AAD', 'Duration', 'Gender','Clinical Diag', 'Path Diag','Brain Weight', 'Mutations',\n",
    "#                    'APOE', 'Braak Tau', 'Thal Phase', 'CERAD', 'CAA', 'SVD','alpha-syn', 'TDP43'])\n",
    "annoUsed=np.array(['Path Diag','Clinical Diag','Brain Weight', 'Mutations',\n",
    "                   'APOE', 'Braak Tau', 'Thal Phase', 'CERAD', 'CAA', 'SVD','alpha-syn', 'TDP43',\n",
    "                   'AAO', 'AAD', 'Duration', 'Gender'])\n",
    "annoUsed_numeric=np.array(['AAO', 'AAD', 'Duration','Brain Weight','Braak Tau', 'Thal Phase', 'CERAD', 'CAA', 'SVD'])\n",
    "\n",
    "meta=meta[annoUsed]\n",
    "stains=np.array(['DAPI','GFAP','MAP2','LMNB'])"
   ]
  },
  {
   "cell_type": "code",
   "execution_count": 3,
   "metadata": {},
   "outputs": [],
   "source": [
    "with open(os.path.join(savedir_processed,'allPatientID'), 'rb') as output:\n",
    "    allPatientIDs=pickle.load(output)\n",
    "meta=meta.loc[np.unique(allPatientIDs)]"
   ]
  },
  {
   "cell_type": "code",
   "execution_count": null,
   "metadata": {},
   "outputs": [],
   "source": [
    "imgStats_clf=pd.read_csv(os.path.join(savedir_processed,'imgStats_clf.csv'),index_col=0)\n",
    "imgStats_clf_pID=np.copy(imgStats_clf.index)\n",
    "imgStats_clf_pID"
   ]
  },
  {
   "cell_type": "code",
   "execution_count": null,
   "metadata": {},
   "outputs": [],
   "source": [
    "for sidx in range(imgStats_clf_pID.size):\n",
    "    imgStats_clf_pID[sidx]=imgStats_clf_pID[sidx].split('-')[0]+'-'+imgStats_clf_pID[sidx].split('-')[1]\n",
    "imgStats_clf_pID"
   ]
  },
  {
   "cell_type": "code",
   "execution_count": null,
   "metadata": {
    "scrolled": true
   },
   "outputs": [],
   "source": [
    "seeds=[4,8,9,10,11,12]\n",
    "for anno in annoUsed:\n",
    "# for anno in ['APOE','alpha-syn', 'TDP43']:\n",
    "    print(anno)\n",
    "    regrs=False\n",
    "#     if anno in annoUsed_numeric:\n",
    "#         regrs=True\n",
    "#     if anno not in annoUsed_numeric:\n",
    "#         continue\n",
    "        \n",
    "    \n",
    "    #construct labels\n",
    "    \n",
    "    meta['keep']=True\n",
    "    if anno not in annoUsed_numeric:\n",
    "        pathDiag_unique_keep,pathDiag_inverse_keep,pathDiag_counts_keep=np.unique(meta[anno].astype(str),return_counts=True,return_inverse=True)\n",
    "        pathDiag_unique_keep[pathDiag_counts_keep<=1]='remove'\n",
    "        pathDiag_unique_keep=pathDiag_unique_keep[pathDiag_inverse_keep]\n",
    "\n",
    "        meta['keep']=pathDiag_unique_keep!='remove'\n",
    "    \n",
    "    meta_allcells=meta.loc[imgStats_clf_pID][anno].to_numpy().astype(str)\n",
    "    cellIdx=np.logical_and(meta_allcells!='na',meta_allcells!='nan')\n",
    "    cellIdx=np.logical_and(cellIdx,meta.loc[imgStats_clf_pID]['keep'].to_numpy())\n",
    "    allCat=meta_allcells[cellIdx]\n",
    "        \n",
    "    #get cluster composition\n",
    "    inputAll=imgStats_clf.to_numpy()[cellIdx]\n",
    "\n",
    "    if anno not in annoUsed_numeric:\n",
    "        pathDiag_unique,labels,pathDiag_counts=np.unique(allCat,return_counts=True,return_inverse=True)\n",
    "        weights=np.sum(pathDiag_counts)/pathDiag_counts\n",
    "    else:\n",
    "        pathDiag_unique=None\n",
    "        weights=None\n",
    "        labels=allCat.astype(float)\n",
    "    if labels.size<2:\n",
    "        continue\n",
    "    annoName=anno\n",
    "    if ' ' in anno:\n",
    "        annoName=anno.split(' ')\n",
    "        annoName=annoName[0]+'_'+annoName[1]\n",
    "    for seed in seeds:\n",
    "        print('seed: ',seed)\n",
    "        name='exp0_allMetaClf_nucSeg_baselineImgStats_seed'+str(seed)+'_'+annoName\n",
    "        savepath_curr=os.path.join(resDir,'metadataClf',name)\n",
    "        if not os.path.exists(os.path.join(resDir,'metadataClf')):\n",
    "            os.mkdir(os.path.join(resDir,'metadataClf'))\n",
    "        if not os.path.exists(savepath_curr):\n",
    "            os.mkdir(savepath_curr)\n",
    "        logsavepath=os.path.join(savepath_curr,'log')\n",
    "        modelsavepath=os.path.join(savepath_curr,'model')\n",
    "        plotsavepath=os.path.join(savepath_curr,'plots')\n",
    "\n",
    "        if os.path.exists(os.path.join(plotsavepath,'predictions'+str(5900)+'.csv')):\n",
    "            continue\n",
    "\n",
    "        if not os.path.exists(logsavepath):\n",
    "            os.mkdir(logsavepath)\n",
    "        if not os.path.exists(modelsavepath):\n",
    "            os.mkdir(modelsavepath)\n",
    "        if not os.path.exists(plotsavepath):\n",
    "            os.mkdir(plotsavepath)\n",
    "\n",
    "        models.train_metaClf.train_metaClf(inputAll, pathDiag_unique, labels, logsavepath, modelsavepath, plotsavepath, imgStats_clf_pID[cellIdx], imgStats_clf.index[cellIdx], np.arange(np.sum(cellIdx)),weights=weights, use_cuda=True, seed=seed, testepoch=3500, epochs=6000, saveFreq=100, lr=0.001, weight_decay=0, batchsize=32, model_str='fc3', fc_dim=256,regrs=regrs)"
   ]
  }
 ],
 "metadata": {
  "kernelspec": {
   "display_name": "Python 3 (ipykernel)",
   "language": "python",
   "name": "python3"
  },
  "language_info": {
   "codemirror_mode": {
    "name": "ipython",
    "version": 3
   },
   "file_extension": ".py",
   "mimetype": "text/x-python",
   "name": "python",
   "nbconvert_exporter": "python",
   "pygments_lexer": "ipython3",
   "version": "3.10.8"
  }
 },
 "nbformat": 4,
 "nbformat_minor": 4
}
