{
 "cells": [
  {
   "cell_type": "code",
   "execution_count": 2,
   "metadata": {},
   "outputs": [],
   "source": [
    "from aicsimageio import AICSImage\n",
    "from aicsimageio.readers import LifReader\n",
    "import numpy as np\n",
    "import matplotlib.pyplot as plt\n",
    "import pandas as pd\n",
    "from skimage import io\n",
    "import os\n",
    "import gc\n",
    "import pickle\n",
    "\n",
    "\n"
   ]
  },
  {
   "cell_type": "code",
   "execution_count": 55,
   "metadata": {},
   "outputs": [],
   "source": [
    "dataDir='/data/xzhang/neuro_new/newdata/Abeta pTAU aggregates files/Abeta pTAU aggregats in AD/'\n",
    "chunk_dims=['X','Y','C','Z','T']\n",
    "sceneName='Merg'\n",
    "channelNames=['Tau','Abeta','MAP2','LMNB','DAPI']\n",
    "savedir='/data/xzhang/neuro_new/newdata/tauAbeta_tiff'\n",
    "if not os.path.exists(savedir):\n",
    "    os.mkdir(savedir)\n",
    "    "
   ]
  },
  {
   "cell_type": "code",
   "execution_count": 56,
   "metadata": {},
   "outputs": [
    {
     "data": {
      "text/plain": [
       "PhysicalPixelSizes(Z=None, Y=0.20263118279569894, X=0.20263118279569894)"
      ]
     },
     "execution_count": 56,
     "metadata": {},
     "output_type": "execute_result"
    }
   ],
   "source": [
    "image_tauAb=LifReader(os.path.join(dataDir,'S151 P54-14 AD AGGR 21-3-23.lif'),chunk_dims=chunk_dims)\n",
    "image_tauAb.physical_pixel_sizes"
   ]
  },
  {
   "cell_type": "code",
   "execution_count": null,
   "metadata": {
    "scrolled": true
   },
   "outputs": [],
   "source": [
    "for fname in os.listdir(dataDir):\n",
    "    if fname[-4:]!='.lif' or fname[0]=='.':\n",
    "        continue\n",
    "    print(fname)\n",
    "    path=fname.split(' ')[2]\n",
    "    pID=fname.split(' ')[1]\n",
    "    print(path)\n",
    "    print(pID)\n",
    "    if not os.path.exists(os.path.join(savedir,path)):\n",
    "        os.mkdir(os.path.join(savedir,path))\n",
    "    \n",
    "    image=LifReader(os.path.join(dataDir,fname),chunk_dims=chunk_dims)\n",
    "\n",
    "    print(image.scenes)\n",
    "    mergedIdx=[]\n",
    "    for sidx in range(len(image.scenes)):\n",
    "        if 'Merg' in image.scenes[sidx]:\n",
    "            mergedIdx.append(sidx)\n",
    "    \n",
    "    for sidx in range(len(mergedIdx)):\n",
    "        s=mergedIdx[sidx]\n",
    "        image.set_scene(s)\n",
    "        print(image.scenes[s])\n",
    "        savepath=os.path.join(savedir,path,pID+'-'+str(sidx))\n",
    "        \n",
    "        np.save(savepath,image.data[0,:,0])"
   ]
  },
  {
   "cell_type": "code",
   "execution_count": null,
   "metadata": {
    "scrolled": true
   },
   "outputs": [],
   "source": [
    "dataDir='/data/xzhang/neuro_new/newdata/TAMM HIST LMNB1 files/'\n",
    "chunk_dims=['X','Y','C','Z','T']\n",
    "sceneName='Merg'\n",
    "channelNames=['Tau','Abeta','MAP2','LMNB','DAPI']\n",
    "savedir='/data/xzhang/neuro_new/newdata/hist_tiff'\n",
    "if not os.path.exists(savedir):\n",
    "    os.mkdir(savedir)\n",
    "\n",
    "for d in os.listdir(dataDir):\n",
    "    if not os.path.isdir(os.path.join(dataDir,d)):\n",
    "        continue\n",
    "    for fname in os.listdir(os.path.join(dataDir,d)):\n",
    "        if fname[-4:]!='.lif' or fname[0]=='.':\n",
    "            continue\n",
    "        print(fname)\n",
    "        path=fname.split(' ')[2]\n",
    "        pID=fname.split(' ')[1]\n",
    "        print(path)\n",
    "        print(pID)\n",
    "        if not os.path.exists(os.path.join(savedir,path)):\n",
    "            os.mkdir(os.path.join(savedir,path))\n",
    "\n",
    "        image=LifReader(os.path.join(dataDir,d,fname),chunk_dims=chunk_dims)\n",
    "\n",
    "        print(image.scenes)\n",
    "        mergedIdx=[]\n",
    "        for sidx in range(len(image.scenes)):\n",
    "#             if 'Merg' in image.scenes[sidx]:\n",
    "            mergedIdx.append(sidx)\n",
    "\n",
    "        for sidx in range(len(mergedIdx)):\n",
    "            s=mergedIdx[sidx]\n",
    "            image.set_scene(s)\n",
    "            print(image.scenes[s])\n",
    "            savepath=os.path.join(savedir,path,pID+'-'+str(sidx))\n",
    "\n",
    "            np.save(savepath,image.data[0,:,0])  "
   ]
  },
  {
   "cell_type": "code",
   "execution_count": 50,
   "metadata": {},
   "outputs": [
    {
     "data": {
      "text/plain": [
       "PhysicalPixelSizes(Z=None, Y=0.1014114313629702, X=0.1014114313629702)"
      ]
     },
     "execution_count": 50,
     "metadata": {},
     "output_type": "execute_result"
    }
   ],
   "source": [
    "image.physical_pixel_sizes"
   ]
  },
  {
   "cell_type": "code",
   "execution_count": 51,
   "metadata": {},
   "outputs": [
    {
     "data": {
      "text/plain": [
       "0.1014111328125"
      ]
     },
     "execution_count": 51,
     "metadata": {},
     "output_type": "execute_result"
    }
   ],
   "source": [
    "207.69/2048"
   ]
  }
 ],
 "metadata": {
  "kernelspec": {
   "display_name": "neuro",
   "language": "python",
   "name": "neuro"
  },
  "language_info": {
   "codemirror_mode": {
    "name": "ipython",
    "version": 3
   },
   "file_extension": ".py",
   "mimetype": "text/x-python",
   "name": "python",
   "nbconvert_exporter": "python",
   "pygments_lexer": "ipython3",
   "version": "3.10.14"
  }
 },
 "nbformat": 4,
 "nbformat_minor": 4
}
