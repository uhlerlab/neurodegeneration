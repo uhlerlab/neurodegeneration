{
 "cells": [
  {
   "cell_type": "code",
   "execution_count": 2,
   "metadata": {},
   "outputs": [],
   "source": [
    "import time\n",
    "import os\n",
    "\n",
    "import scanpy\n",
    "import numpy as np\n",
    "import scipy.sparse as sp\n",
    "\n",
    "import torch\n",
    "from torch import optim\n",
    "from torch.utils.data import DataLoader\n",
    "\n",
    "import models.modelsCNN as modelsCNN\n",
    "import models.optimizer as optimizer\n",
    "\n",
    "import pickle\n",
    "import matplotlib.pyplot as plt\n",
    "import seaborn as sns\n",
    "import pandas as pd\n",
    "import gc\n",
    "from skimage import io\n",
    "import scipy.stats\n",
    "import utils.plot\n",
    "import models.train_metaClf\n",
    "import models.clusterUtils"
   ]
  },
  {
   "cell_type": "code",
   "execution_count": 3,
   "metadata": {},
   "outputs": [],
   "source": [
    "savedir_processed='/data/xzhang/neuro/processed'\n",
    "with open(os.path.join(savedir_processed,'allLatent_epoch458_nucSeg'), 'rb') as output:\n",
    "    latent_all=pickle.load(output)"
   ]
  },
  {
   "cell_type": "code",
   "execution_count": 8,
   "metadata": {},
   "outputs": [
    {
     "data": {
      "text/plain": [
       "69"
      ]
     },
     "execution_count": 8,
     "metadata": {},
     "output_type": "execute_result"
    }
   ],
   "source": [
    "\n",
    "finalPartition,_=models.clusterUtils.getCluster(latent_all,None,resolution=4.08,n_pcs=200)\n",
    "np.unique(finalPartition).size"
   ]
  },
  {
   "cell_type": "code",
   "execution_count": 9,
   "metadata": {},
   "outputs": [],
   "source": [
    "resDir='/data/xzhang//neuro/results/plots/cnnvaeexp0_segNucall'\n",
    "with open(os.path.join(resDir,'leiden_res4.08'), 'wb') as output:\n",
    "    pickle.dump(finalPartition,output,pickle.HIGHEST_PROTOCOL)"
   ]
  },
  {
   "cell_type": "code",
   "execution_count": 10,
   "metadata": {
    "scrolled": true
   },
   "outputs": [
    {
     "data": {
      "text/plain": [
       "<BarContainer object of 69 artists>"
      ]
     },
     "execution_count": 10,
     "metadata": {},
     "output_type": "execute_result"
    },
    {
     "data": {
      "image/png": "[encoded data removed]",
      "text/plain": [
       "<Figure size 640x480 with 1 Axes>"
      ]
     },
     "metadata": {},
     "output_type": "display_data"
    }
   ],
   "source": [
    "clusterUnique,clusterCount=np.unique(finalPartition,return_counts=True)\n",
    "plt.bar(clusterUnique,clusterCount)"
   ]
  },
  {
   "cell_type": "code",
   "execution_count": 11,
   "metadata": {},
   "outputs": [],
   "source": [
    "os.environ[\"CUDA_VISIBLE_DEVICES\"] = '0'\n",
    "savedir_processed='/data/xzhang/neuro/processed'\n",
    "resDir='/data/xzhang/neuro/results/plots/cnnvaeexp0_segNucall'\n",
    "\n",
    "\n",
    "with open(os.path.join(resDir,'leiden_res4.08'), 'rb') as output:\n",
    "    finalPartition=pickle.load(output)\n",
    "    \n",
    "with open(os.path.join(savedir_processed,'meta_processed'), 'rb') as output:\n",
    "    meta=pickle.load(output)\n",
    "\n",
    "# annoUsed=np.array(['AAO', 'AAD', 'Duration', 'Gender','Clinical Diag', 'Path Diag','Brain Weight', 'Mutations',\n",
    "#                    'APOE', 'Braak Tau', 'Thal Phase', 'CERAD', 'CAA', 'SVD','alpha-syn', 'TDP43'])\n",
    "annoUsed=np.array(['Path Diag','Clinical Diag','Brain Weight', 'Mutations',\n",
    "                   'APOE', 'Braak Tau', 'Thal Phase', 'CERAD', 'CAA', 'SVD','alpha-syn', 'TDP43',\n",
    "                   'AAO', 'AAD', 'Duration', 'Gender'])\n",
    "annoUsed_numeric=np.array(['AAO', 'AAD', 'Duration','Brain Weight','Braak Tau', 'Thal Phase', 'CERAD', 'CAA', 'SVD'])\n",
    "\n",
    "meta=meta[annoUsed]\n",
    "stains=np.array(['DAPI','GFAP','MAP2','LMNB'])"
   ]
  },
  {
   "cell_type": "code",
   "execution_count": 12,
   "metadata": {},
   "outputs": [],
   "source": [
    "with open(os.path.join(savedir_processed,'allPatientID'), 'rb') as output:\n",
    "    allPatientIDs=pickle.load(output)\n",
    "meta=meta.loc[np.unique(allPatientIDs)]"
   ]
  },
  {
   "cell_type": "code",
   "execution_count": 13,
   "metadata": {},
   "outputs": [
    {
     "data": {
      "text/plain": [
       "69"
      ]
     },
     "execution_count": 13,
     "metadata": {},
     "output_type": "execute_result"
    }
   ],
   "source": [
    "np.unique(finalPartition).size"
   ]
  },
  {
   "cell_type": "code",
   "execution_count": 14,
   "metadata": {},
   "outputs": [],
   "source": [
    "savedir_analysis=os.path.join(resDir,'plots')\n",
    "if not os.path.exists(savedir_analysis):\n",
    "    os.mkdir(savedir_analysis)"
   ]
  },
  {
   "cell_type": "code",
   "execution_count": 15,
   "metadata": {},
   "outputs": [
    {
     "name": "stdout",
     "output_type": "stream",
     "text": [
      "64\n",
      "50\n"
     ]
    }
   ],
   "source": [
    "with open(os.path.join(savedir_processed,'allImgNames'), 'rb') as output:\n",
    "    allImgNames=pickle.load(output)\n",
    "print(np.unique(allImgNames).size)\n",
    "print(np.unique(allPatientIDs).size)"
   ]
  },
  {
   "cell_type": "code",
   "execution_count": null,
   "metadata": {},
   "outputs": [],
   "source": [
    "seeds=[4,8,9,10,11,12]\n",
    "# for anno in annoUsed:\n",
    "for anno in ['Path Diag','Clinical Diag']:\n",
    "    print(anno)\n",
    "    regrs=False\n",
    "#     if anno in annoUsed_numeric:\n",
    "#         regrs=True\n",
    "#     if anno not in annoUsed_numeric:\n",
    "#         continue\n",
    "        \n",
    "    \n",
    "    #construct labels\n",
    "    \n",
    "    meta['keep']=True\n",
    "    if anno not in annoUsed_numeric:\n",
    "        pathDiag_unique_keep,pathDiag_inverse_keep,pathDiag_counts_keep=np.unique(meta[anno].astype(str),return_counts=True,return_inverse=True)\n",
    "        pathDiag_unique_keep[pathDiag_counts_keep<=1]='remove'\n",
    "        pathDiag_unique_keep=pathDiag_unique_keep[pathDiag_inverse_keep]\n",
    "\n",
    "        meta['keep']=pathDiag_unique_keep!='remove'\n",
    "    \n",
    "    meta_allcells=meta.loc[allPatientIDs][anno].to_numpy().astype(str)\n",
    "    cellIdx=np.logical_and(meta_allcells!='na',meta_allcells!='nan')\n",
    "    cellIdx=np.logical_and(cellIdx,meta.loc[allPatientIDs]['keep'].to_numpy())\n",
    "    allCat=meta_allcells[cellIdx]\n",
    "    \n",
    "    allImgNames_a=allImgNames[cellIdx]\n",
    "    sUnique,sidx_start=np.unique(allImgNames_a,return_index=True)\n",
    "    \n",
    "    #get cluster composition\n",
    "    clusterUnique=np.unique(finalPartition)\n",
    "    inputCluster=np.zeros((sUnique.size,clusterUnique.size))\n",
    "    for i in range(sUnique.size):\n",
    "        clusterRes_i=finalPartition[allImgNames==sUnique[i]]\n",
    "        for j in range(clusterUnique.size):\n",
    "            inputCluster[i,j]=np.sum(clusterRes_i==clusterUnique[j])\n",
    "    inputAll=inputCluster/np.sum(inputCluster,axis=1,keepdims=True)\n",
    "\n",
    "    if anno not in annoUsed_numeric:\n",
    "        pathDiag_unique,labels,pathDiag_counts=np.unique(allCat[sidx_start],return_counts=True,return_inverse=True)\n",
    "        weights=np.sum(pathDiag_counts)/pathDiag_counts\n",
    "    else:\n",
    "        pathDiag_unique=None\n",
    "        weights=None\n",
    "        labels=allCat[sidx_start].astype(float)\n",
    "    if labels.size<2:\n",
    "        continue\n",
    "    annoName=anno\n",
    "    if ' ' in anno:\n",
    "        annoName=anno.split(' ')\n",
    "        annoName=annoName[0]+'_'+annoName[1]\n",
    "    for seed in seeds:\n",
    "        print('seed: ',seed)\n",
    "        name='exp0_allMetaClf_nucSeg_baselineAllLatent_res4.08_seed'+str(seed)+'_'+annoName\n",
    "        savepath_curr=os.path.join(resDir,'metadataClf',name)\n",
    "        if not os.path.exists(os.path.join(resDir,'metadataClf')):\n",
    "            os.mkdir(os.path.join(resDir,'metadataClf'))\n",
    "        if not os.path.exists(savepath_curr):\n",
    "            os.mkdir(savepath_curr)\n",
    "        logsavepath=os.path.join(savepath_curr,'log')\n",
    "        modelsavepath=os.path.join(savepath_curr,'model')\n",
    "        plotsavepath=os.path.join(savepath_curr,'plots')\n",
    "\n",
    "        if os.path.exists(os.path.join(plotsavepath,'predictions'+str(5900)+'.csv')):\n",
    "            continue\n",
    "\n",
    "        if not os.path.exists(logsavepath):\n",
    "            os.mkdir(logsavepath)\n",
    "        if not os.path.exists(modelsavepath):\n",
    "            os.mkdir(modelsavepath)\n",
    "        if not os.path.exists(plotsavepath):\n",
    "            os.mkdir(plotsavepath)\n",
    "\n",
    "        pIDList=allPatientIDs[sidx_start]\n",
    "        models.train_metaClf.train_metaClf(inputAll, pathDiag_unique, labels, logsavepath, modelsavepath, plotsavepath, pIDList, allImgNames, sidx_start,weights=weights, use_cuda=True, seed=seed, testepoch=3500, epochs=6000, saveFreq=100, lr=0.001, weight_decay=0, batchsize=32, model_str='fc3', fc_dim=256,regrs=regrs)"
   ]
  }
 ],
 "metadata": {
  "kernelspec": {
   "display_name": "Python 3 (ipykernel)",
   "language": "python",
   "name": "python3"
  },
  "language_info": {
   "codemirror_mode": {
    "name": "ipython",
    "version": 3
   },
   "file_extension": ".py",
   "mimetype": "text/x-python",
   "name": "python",
   "nbconvert_exporter": "python",
   "pygments_lexer": "ipython3",
   "version": "3.10.8"
  }
 },
 "nbformat": 4,
 "nbformat_minor": 4
}
