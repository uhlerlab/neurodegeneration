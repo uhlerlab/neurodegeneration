{
 "cells": [
  {
   "cell_type": "code",
   "execution_count": 1,
   "id": "d1718038",
   "metadata": {},
   "outputs": [
    {
     "name": "stderr",
     "output_type": "stream",
     "text": [
      "/home/xzhang/anaconda3/envs/c2p/lib/python3.10/site-packages/pandas/core/arrays/masked.py:60: UserWarning: Pandas requires version '1.3.6' or newer of 'bottleneck' (version '1.3.5' currently installed).\n",
      "  from pandas.core import (\n"
     ]
    }
   ],
   "source": [
    "import time\n",
    "import os\n",
    "import sys\n",
    "sys.path.append('..')\n",
    "\n",
    "import scanpy\n",
    "import numpy as np\n",
    "import scipy.sparse as sp\n",
    "\n",
    "import torch\n",
    "from torch import optim\n",
    "from torch.utils.data import DataLoader\n",
    "\n",
    "import models.modelsCNN as modelsCNN\n",
    "import models.optimizer as optimizer\n",
    "\n",
    "import pickle\n",
    "import matplotlib.pyplot as plt\n",
    "import seaborn as sns\n",
    "import pandas as pd\n",
    "import gc\n",
    "from skimage import io\n",
    "import scipy.stats\n",
    "import utils.plot\n",
    "\n",
    "import torchvision"
   ]
  },
  {
   "cell_type": "code",
   "execution_count": 2,
   "id": "fafa4120",
   "metadata": {},
   "outputs": [],
   "source": [
    "os.environ[\"CUDA_VISIBLE_DEVICES\"] = \"1\"\n",
    "os.environ[\"CUDA_LAUNCH_BLOCKING\"] = \"1\"\n",
    "resolution='5'\n",
    "resDir='/data/xzhang/neuro/results/plots/cnnvaeexp0_segNucall'\n",
    "with open(os.path.join(resDir,'leiden_res'+resolution), 'rb') as output:\n",
    "    finalPartition=pickle.load(output)\n",
    "    \n",
    "savedir_baseline='/data/xzhang/neuro/results/jointClustering/baseline/res'+resolution\n",
    "saveDir=os.path.join(savedir_baseline,'cnnvaeexp0_segNucall')\n",
    "with open(os.path.join(saveDir,'metadataClf','exp0_pathDiagClf_modSilFilter_2','log','clusterUsed'), 'rb') as output:\n",
    "    finalPartition_keep=pickle.load(output)"
   ]
  },
  {
   "cell_type": "code",
   "execution_count": 8,
   "id": "4d517c01",
   "metadata": {},
   "outputs": [],
   "source": [
    "finalPartition_keepIdx=np.repeat(False, finalPartition.size)\n",
    "for c in finalPartition_keep:\n",
    "    finalPartition_keepIdx[finalPartition==c]=True\n",
    "finalPartition_keep_input=np.copy(finalPartition)\n",
    "finalPartition_keep_input[np.logical_not(finalPartition_keepIdx)]=-1\n",
    "print(finalPartition_keep_input.shape)\n",
    "print(np.unique(finalPartition_keep_input))\n",
    "finalPartition_keep_input_unique,labels,finalPartition_keep_input_counts=np.unique(finalPartition_keep_input,return_counts=True,return_inverse=True)\n"
   ]
  },
  {
   "cell_type": "code",
   "execution_count": 4,
   "id": "920a3cc2",
   "metadata": {},
   "outputs": [
    {
     "name": "stdout",
     "output_type": "stream",
     "text": [
      "(24966, 5, 128, 128)\n"
     ]
    }
   ],
   "source": [
    "savedir_processed_new='/data/xzhang/neuro_new/newdata/tauAbeta_tiff/processed'\n",
    "\n",
    "with open(os.path.join(savedir_processed_new,'allImgs_minmax_segNuc'), 'rb') as output:\n",
    "    allImg_tauAb=pickle.load(output)\n",
    "print(allImg_tauAb.shape)"
   ]
  },
  {
   "cell_type": "code",
   "execution_count": 10,
   "id": "5924f58c",
   "metadata": {},
   "outputs": [],
   "source": [
    "allImg_tauAb_input=allImg_tauAb[:,:3]\n",
    "imgSize=allImg_tauAb_input.shape[2]\n",
    "saveFreq=50\n",
    "\n",
    "batchsize=256\n",
    "\n",
    "name='img2clusterID_dapi_lmnb_map2'\n",
    "modelname_train='resnet18'\n",
    "savepath_curr=os.path.join(saveDir,'clusterClf',name)\n",
    "logsavepath=os.path.join(savepath_curr,'log')\n",
    "modelsavepath=os.path.join(savepath_curr,'model')\n",
    "plotsavepath=os.path.join(savepath_curr,'plots')\n",
    "\n",
    "\n"
   ]
  },
  {
   "cell_type": "code",
   "execution_count": 12,
   "id": "c4d16483",
   "metadata": {},
   "outputs": [
    {
     "name": "stdout",
     "output_type": "stream",
     "text": [
      "0\n",
      "1\n",
      "2\n",
      "3\n",
      "4\n",
      "5\n"
     ]
    }
   ],
   "source": [
    "nSamples=6\n",
    "valIdx=np.arange(allImg_tauAb_input.shape[0])\n",
    "res_pred=np.zeros((nSamples,valIdx.size))\n",
    "\n",
    "for sample_s in range(nSamples):\n",
    "    print(sample_s)\n",
    "    seed=sample_s\n",
    "    np.random.seed(sample_s)\n",
    "    pctVal=0.1\n",
    "\n",
    "\n",
    "    logsavepath_train_curr=os.path.join(logsavepath,str(sample_s))\n",
    "    modelsavepath_train_curr=os.path.join(modelsavepath,str(sample_s))\n",
    "    plotsavepath_train_curr=os.path.join(plotsavepath,str(sample_s))\n",
    "    \n",
    "    if modelname_train=='resnet18':\n",
    "        model=torchvision.models.resnet18(num_classes=finalPartition_keep_input_unique.size)\n",
    "        model.conv1=torch.nn.Conv2d(3, 64, kernel_size=(7, 7), stride=(2, 2), padding=(3, 3), bias=False) #change to one input channel\n",
    "    elif modelname_train=='alexnet':\n",
    "        model=torchvision.models.alexnet(num_classes=finalPartition_keep_input_unique.size)\n",
    "        model.features[0]=torch.nn.Conv2d(1, 64, kernel_size=(11, 11), stride=(4, 4), padding=(2, 2))\n",
    "    elif modelname_train=='cnn_base':\n",
    "        model=model_clf.cnn_clf.CNN_VAE_clf(4, 2, 1, 1, 64,128,256,256,96, 96*4*4,64,finalPartition_keep_input_unique.size)\n",
    "    model.cuda()\n",
    "\n",
    "    with open(os.path.join(logsavepath_train_curr,'val_loss'), 'rb') as output:\n",
    "        val_loss=pickle.load(output)\n",
    "    minlossepoch=np.argmin(val_loss)\n",
    "    minlossepoch_saved=int(np.round(minlossepoch/saveFreq)*saveFreq)-1\n",
    "    if minlossepoch_saved==-1:\n",
    "        minlossepoch_saved=saveFreq-1\n",
    "    if val_loss[minlossepoch_saved-saveFreq]<val_loss[minlossepoch_saved]:\n",
    "        if val_loss[minlossepoch_saved+saveFreq]<val_loss[minlossepoch_saved-saveFreq]:\n",
    "            minlossepoch_saved=minlossepoch_saved+saveFreq\n",
    "        else:\n",
    "            minlossepoch_saved=minlossepoch_saved-saveFreq\n",
    "    if minlossepoch_saved==-1:\n",
    "        minlossepoch_saved=saveFreq-1\n",
    "    model.load_state_dict(torch.load(os.path.join(modelsavepath_train_curr,'ep'+str(minlossepoch_saved)+'.pt')))\n",
    "\n",
    "    #validation samples\n",
    "    with torch.no_grad():\n",
    "        model.eval()\n",
    "        nvalBatches=int(np.ceil(valIdx.shape[0]/batchsize))\n",
    "        pred_curr=np.array([])\n",
    "        for i in range(nvalBatches):\n",
    "            valIdx_i=valIdx[i*batchsize:min((i+1)*batchsize,valIdx.shape[0])]\n",
    "            valInput=torch.tensor(allImg_tauAb_input[valIdx_i]).cuda().float()\n",
    "\n",
    "            pred = model(valInput)\n",
    "\n",
    "            pred_curr=np.concatenate((pred_curr,np.argmax(pred.detach().cpu().numpy(),axis=1)))\n",
    "\n",
    "\n",
    "    res_pred[sample_s]=pred_curr.astype(int)\n",
    "    \n",
    "    \n",
    "with open(os.path.join(plotsavepath,'pred_tauAb'), 'wb') as output:\n",
    "    pickle.dump(res_pred, output, pickle.HIGHEST_PROTOCOL)\n",
    "\n"
   ]
  },
  {
   "cell_type": "code",
   "execution_count": 22,
   "id": "a9f16b33",
   "metadata": {},
   "outputs": [],
   "source": [
    "res_pred_mode=scipy.stats.mode(res_pred,axis=0)[0]\n",
    "res_pred_mode=finalPartition_keep_input_unique[res_pred_mode.astype(int)]"
   ]
  },
  {
   "cell_type": "code",
   "execution_count": 39,
   "id": "0268cba5",
   "metadata": {},
   "outputs": [
    {
     "name": "stdout",
     "output_type": "stream",
     "text": [
      "15\n"
     ]
    },
    {
     "data": {
      "text/plain": [
       "array([ 1,  2,  3, 11, 13, 14, 18, 19, 20, 34, 36, 53, 66, 74, 85])"
      ]
     },
     "execution_count": 39,
     "metadata": {},
     "output_type": "execute_result"
    }
   ],
   "source": [
    "row_order_all=np.array([ 0.,  3., 13., 14., 18., 36., 39., 62., 66., 74., 82., 94.,  1.,\n",
    "        4., 11., 17., 21., 28., 32., 53., 97., 99.,  2.,  7., 19., 20.,\n",
    "       34., 84., 85.])\n",
    "_,predIdx,_=np.intersect1d(res_pred_mode_unique,row_order_all,return_indices=True)\n",
    "print(np.sum(res_pred_mode_counts[predIdx]<100))\n",
    "res_pred_mode_unique[predIdx][res_pred_mode_counts[predIdx]<100]"
   ]
  },
  {
   "cell_type": "code",
   "execution_count": 41,
   "id": "6d60e4de",
   "metadata": {
    "scrolled": true
   },
   "outputs": [
    {
     "name": "stdout",
     "output_type": "stream",
     "text": [
      "0\n",
      "1000\n",
      "2000\n",
      "3000\n",
      "4000\n",
      "5000\n",
      "6000\n",
      "7000\n",
      "8000\n",
      "9000\n",
      "10000\n",
      "11000\n",
      "12000\n",
      "13000\n",
      "14000\n",
      "15000\n",
      "16000\n",
      "17000\n",
      "18000\n",
      "19000\n",
      "20000\n",
      "21000\n",
      "22000\n",
      "23000\n",
      "24000\n"
     ]
    }
   ],
   "source": [
    "#hc\n",
    "hc_ec_content=np.zeros(allImg_tauAb_input.shape[0])\n",
    "alpha=1.5\n",
    "for i in range(allImg_tauAb_input.shape[0]):\n",
    "    intensity=allImg_tauAb_input[i,0]\n",
    "    regionmask=intensity>0\n",
    "    hc = np.mean(intensity[regionmask]) + (alpha * np.std(intensity[regionmask]))\n",
    "    hc_ec_content[i]=np.sum(np.where(intensity[regionmask] >= hc, intensity[regionmask], 0))/ np.sum(np.where(intensity[regionmask] < hc, intensity[regionmask], 0))\n",
    "    if i%1000==0:\n",
    "        print(i)\n",
    "    "
   ]
  },
  {
   "cell_type": "code",
   "execution_count": 132,
   "id": "ed0a2a19",
   "metadata": {},
   "outputs": [],
   "source": [
    "with open(os.path.join(savedir_processed_new,'hc_ec_content'), 'wb') as output:\n",
    "    pickle.dump(hc_ec_content, output, pickle.HIGHEST_PROTOCOL)\n",
    "\n"
   ]
  },
  {
   "cell_type": "code",
   "execution_count": 62,
   "id": "5042305c",
   "metadata": {},
   "outputs": [],
   "source": [
    "with open(os.path.join(savedir_processed_new,'allCat'), 'rb') as output:\n",
    "    allCat=pickle.load(output)\n"
   ]
  },
  {
   "cell_type": "code",
   "execution_count": 121,
   "id": "9342ec4e",
   "metadata": {},
   "outputs": [],
   "source": [
    "savedir_processed='/data/xzhang/neuro/processed'\n",
    "\n",
    "with open(os.path.join(savedir_processed,'allPatientID'), 'rb') as output:\n",
    "    allPatientIDs=pickle.load(output)"
   ]
  },
  {
   "cell_type": "code",
   "execution_count": 125,
   "id": "7ad71336",
   "metadata": {},
   "outputs": [
    {
     "name": "stdout",
     "output_type": "stream",
     "text": [
      "8\n",
      "['AD' 'AD' 'AD' 'AD' 'AD' 'AD' 'AD' 'AD']\n"
     ]
    }
   ],
   "source": [
    "with open(os.path.join(savedir_processed_new,'allPatientID'), 'rb') as output:\n",
    "    allPatientIDs_new=pickle.load(output)\n",
    "\n",
    "overlapID,_,overlapIDidx=np.intersect1d(allPatientIDs,allPatientIDs_new,return_indices=True)\n",
    "print(overlapID.size)\n",
    "print(allCat[overlapIDidx])"
   ]
  },
  {
   "cell_type": "code",
   "execution_count": 169,
   "id": "3d84590f",
   "metadata": {},
   "outputs": [
    {
     "data": {
      "text/plain": [
       "(array(['AD', 'CTRL'], dtype='<U4'), array([12,  2]))"
      ]
     },
     "execution_count": 169,
     "metadata": {},
     "output_type": "execute_result"
    }
   ],
   "source": [
    "_,allPatientIDs_new_uniqueIdx=np.unique(allPatientIDs_new,return_index=True)\n",
    "np.unique(allCat[allPatientIDs_new_uniqueIdx],return_counts=True)"
   ]
  },
  {
   "cell_type": "code",
   "execution_count": 168,
   "id": "ebb0ff83",
   "metadata": {},
   "outputs": [],
   "source": [
    "with open(os.path.join(savedir_processed_new,'allImgNames'), 'rb') as output:\n",
    "    allImgNames_new=pickle.load(output)"
   ]
  },
  {
   "cell_type": "code",
   "execution_count": 177,
   "id": "e122279e",
   "metadata": {},
   "outputs": [
    {
     "name": "stdout",
     "output_type": "stream",
     "text": [
      "P16-2\n",
      "P45-16\n",
      "P5-16\n",
      "P57-18\n",
      "P60-16\n",
      "P88-10\n"
     ]
    }
   ],
   "source": [
    "for p in np.unique(allPatientIDs_new):\n",
    "    if p not in allPatientIDs:\n",
    "        print(p)\n"
   ]
  },
  {
   "cell_type": "code",
   "execution_count": 65,
   "id": "e9cfd23f",
   "metadata": {},
   "outputs": [
    {
     "name": "stdout",
     "output_type": "stream",
     "text": [
      "4 1.4623801894628178e-18 0.056109354378864384\n",
      "7 0.040317942047492894 0.04246012271882188\n",
      "8 1.2213585023778528e-15 0.0594487161734471\n",
      "10 2.6165770668835654e-36 0.07429919485372438\n",
      "23 1.3266318655311376e-13 0.04640769942621814\n",
      "30 0.02396735592413431 0.03465151509049452\n"
     ]
    }
   ],
   "source": [
    "hcClusters=[4,7,8,10,22,23,30,34,70,94]\n",
    "for c in hcClusters:\n",
    "    if np.sum(res_pred_mode==c)<50:\n",
    "        continue\n",
    "    diff=np.mean(hc_ec_content[np.logical_and(allCat=='AD',res_pred_mode==c)])-np.mean(hc_ec_content[np.logical_and(allCat=='CTRL',res_pred_mode==c)])\n",
    "    pval=scipy.stats.ttest_ind(hc_ec_content[np.logical_and(allCat=='AD',res_pred_mode==c)],hc_ec_content[np.logical_and(allCat=='CTRL',res_pred_mode==c)],alternative='greater')[1]\n",
    "    print(c,pval,diff)\n"
   ]
  },
  {
   "cell_type": "code",
   "execution_count": 173,
   "id": "57ea05e8",
   "metadata": {},
   "outputs": [
    {
     "data": {
      "image/png": "[encoded data removed]",
      "text/plain": [
       "<Figure size 350x300 with 1 Axes>"
      ]
     },
     "metadata": {},
     "output_type": "display_data"
    }
   ],
   "source": [
    "ad_features=np.array([])\n",
    "clusterID_ad=np.array([])\n",
    "clusterID_control=np.array([])\n",
    "control_features=np.array([])\n",
    "for c in hcClusters:\n",
    "    if np.sum(res_pred_mode==c)<50:\n",
    "        continue\n",
    "    ad_features_c=hc_ec_content[np.logical_and(allCat=='AD',res_pred_mode==c)]\n",
    "    control_features_c=hc_ec_content[np.logical_and(allCat=='CTRL',res_pred_mode==c)]\n",
    "    clusterID_ad=np.concatenate((clusterID_ad,np.repeat(str(int(c)),ad_features_c.size)))\n",
    "    clusterID_control=np.concatenate((clusterID_control,np.repeat(str(int(c)),control_features_c.size)))\n",
    "    ad_features=np.concatenate((ad_features,ad_features_c))\n",
    "    control_features=np.concatenate((control_features,control_features_c))\n",
    "fig,ax=plt.subplots(figsize=(3.5,3),layout='constrained')\n",
    "nmcoplot=pd.DataFrame({'pheno':np.concatenate((np.repeat('AD',ad_features.size),np.repeat('Control',control_features.size))),'HC/EC ratio':np.concatenate((ad_features,control_features)),'cluster':np.concatenate((clusterID_ad,clusterID_control))})\n",
    "sns.violinplot(nmcoplot,y='HC/EC ratio',x='cluster',hue='pheno',split=True)\n",
    "ax.legend(loc='lower left',bbox_to_anchor=(1, 0.35))\n",
    "fig.tight_layout()\n",
    "plt.savefig(os.path.join(plotsavepath,'AD_Control_hc_ec_content_heldoutSamples.pdf'))\n",
    "# plt.ylim(-2,3)\n",
    "plt.show()"
   ]
  },
  {
   "cell_type": "code",
   "execution_count": 160,
   "id": "2ffb7409",
   "metadata": {},
   "outputs": [
    {
     "name": "stdout",
     "output_type": "stream",
     "text": [
      "4 2.0238153039240786e-17 0.05619373141966977\n",
      "7 0.06863261277926155 0.035029836376997636\n",
      "8 4.946964961531824e-14 0.05605516056868948\n",
      "10 2.4846145969893455e-36 0.07758778941788397\n",
      "23 4.210263564989681e-12 0.053923377200582545\n",
      "30 0.015664186225772057 0.03737809507146089\n"
     ]
    }
   ],
   "source": [
    "#exclude overlapping patients\n",
    "uniqueIdx=np.repeat(True,allPatientIDs_new.size)\n",
    "ps=[]\n",
    "for i in overlapID:\n",
    "    uniqueIdx[allPatientIDs_new==i]=False\n",
    "for c in hcClusters:\n",
    "    if np.sum(res_pred_mode==c)<50:\n",
    "        continue\n",
    "    diff=np.mean(hc_ec_content[np.logical_and(np.logical_and(allCat=='AD',uniqueIdx),res_pred_mode==c)])-np.mean(hc_ec_content[np.logical_and(np.logical_and(allCat=='CTRL',uniqueIdx),res_pred_mode==c)])\n",
    "    pval=scipy.stats.ttest_ind(hc_ec_content[np.logical_and(np.logical_and(allCat=='AD',uniqueIdx),res_pred_mode==c)],hc_ec_content[np.logical_and(np.logical_and(allCat=='CTRL',uniqueIdx),res_pred_mode==c)],alternative='greater')[1]\n",
    "    print(c,pval,diff)\n",
    "    ps.append(pval)"
   ]
  },
  {
   "cell_type": "code",
   "execution_count": 161,
   "id": "f705e00a",
   "metadata": {},
   "outputs": [
    {
     "data": {
      "text/plain": [
       "array([[2.02381530e-17, 6.86326128e-02, 4.94696496e-14, 2.48461460e-36,\n",
       "        4.21026356e-12, 1.56641862e-02]])"
      ]
     },
     "execution_count": 161,
     "metadata": {},
     "output_type": "execute_result"
    }
   ],
   "source": [
    "scipy.stats.false_discovery_control([ps])"
   ]
  },
  {
   "cell_type": "code",
   "execution_count": 174,
   "id": "2cccb8d9",
   "metadata": {},
   "outputs": [
    {
     "data": {
      "image/png": "[encoded data removed]",
      "text/plain": [
       "<Figure size 300x300 with 1 Axes>"
      ]
     },
     "metadata": {},
     "output_type": "display_data"
    }
   ],
   "source": [
    "ad_features=np.array([])\n",
    "clusterID_ad=np.array([])\n",
    "clusterID_control=np.array([])\n",
    "control_features=np.array([])\n",
    "for c in hcClusters:\n",
    "    if np.sum(res_pred_mode==c)<50:\n",
    "        continue\n",
    "    ad_features_c=hc_ec_content[np.logical_and(np.logical_and(allCat=='AD',uniqueIdx),res_pred_mode==c)]\n",
    "    control_features_c=hc_ec_content[np.logical_and(np.logical_and(allCat=='CTRL',uniqueIdx),res_pred_mode==c)]\n",
    "    clusterID_ad=np.concatenate((clusterID_ad,np.repeat(str(int(c)),ad_features_c.size)))\n",
    "    clusterID_control=np.concatenate((clusterID_control,np.repeat(str(int(c)),control_features_c.size)))\n",
    "    ad_features=np.concatenate((ad_features,ad_features_c))\n",
    "    control_features=np.concatenate((control_features,control_features_c))\n",
    "\n",
    "fig,ax=plt.subplots(figsize=(3,3),layout='constrained')\n",
    "nmcoplot=pd.DataFrame({'pheno':np.concatenate((np.repeat('AD',ad_features.size),np.repeat('Control',control_features.size))),'HC/EC ratio':np.concatenate((ad_features,control_features)),'cluster':np.concatenate((clusterID_ad,clusterID_control))})\n",
    "sns.violinplot(nmcoplot,y='HC/EC ratio',x='cluster',hue='pheno',split=True)\n",
    "ax.legend(loc='lower left',bbox_to_anchor=(1, 0.35))\n",
    "plt.savefig(os.path.join(plotsavepath,'AD_Control_hc_ec_content_heldoutPatients.pdf'))\n",
    "fig.tight_layout()\n",
    "# plt.ylim(-2,3)\n",
    "plt.show()"
   ]
  }
 ],
 "metadata": {
  "kernelspec": {
   "display_name": "Python 3 (ipykernel)",
   "language": "python",
   "name": "python3"
  },
  "language_info": {
   "codemirror_mode": {
    "name": "ipython",
    "version": 3
   },
   "file_extension": ".py",
   "mimetype": "text/x-python",
   "name": "python",
   "nbconvert_exporter": "python",
   "pygments_lexer": "ipython3",
   "version": "3.10.8"
  }
 },
 "nbformat": 4,
 "nbformat_minor": 5
}
