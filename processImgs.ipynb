{
 "cells": [
  {
   "cell_type": "code",
   "execution_count": null,
   "metadata": {},
   "outputs": [],
   "source": [
    "import numpy as np\n",
    "import matplotlib.pyplot as plt\n",
    "import pandas as pd\n",
    "from skimage import io\n",
    "import os\n",
    "import gc\n",
    "import pickle\n",
    "\n",
    "\n",
    "from skimage.filters import gaussian\n",
    "from skimage.morphology import remove_small_objects\n",
    "from scipy.ndimage import center_of_mass\n",
    "from stardist.models import StarDist2D\n",
    "from csbdeep.utils import normalize\n",
    "from skimage.segmentation import clear_border"
   ]
  },
  {
   "cell_type": "code",
   "execution_count": 2,
   "metadata": {},
   "outputs": [],
   "source": [
    "dataDir='/media/xinyi/T7 Shield/neuro'\n",
    "phenoLabels=['Control','AD','IPD','FTLD-TDPC','PSP']\n",
    "tif3dpath='TIFS/3DOrig'\n",
    "stains=['GFAP','MAP2','LMNB','DAPI']\n",
    "proj2dpath='TIFS/2DMaxProj'"
   ]
  },
  {
   "cell_type": "markdown",
   "metadata": {},
   "source": [
    "### 2D projection and generate missing masks"
   ]
  },
  {
   "cell_type": "code",
   "execution_count": null,
   "metadata": {
    "scrolled": true
   },
   "outputs": [],
   "source": [
    "#generate 2d max project\n",
    "for p in phenoLabels:\n",
    "    print(p)\n",
    "    if not os.path.exists(os.path.join(dataDir,p,proj2dpath)):\n",
    "        os.mkdir(os.path.join(dataDir,p,proj2dpath))\n",
    "    for s in os.listdir(os.path.join(dataDir,p,tif3dpath)):\n",
    "        print(s)\n",
    "        #load 2d imgs\n",
    "        img3d=io.imread(os.path.join(dataDir,p,tif3dpath,s))\n",
    "        for stainIdx in range(len(stains)):\n",
    "            if not os.path.exists(os.path.join(dataDir,p,proj2dpath,stains[stainIdx])):\n",
    "                os.mkdir(os.path.join(dataDir,p,proj2dpath,stains[stainIdx]))\n",
    "            io.imsave(os.path.join(dataDir,p,proj2dpath,stains[stainIdx],s),np.max(img3d[:,:,:,stainIdx],axis=0))"
   ]
  },
  {
   "cell_type": "code",
   "execution_count": 6,
   "metadata": {},
   "outputs": [
    {
     "name": "stdout",
     "output_type": "stream",
     "text": [
      "Found model '2D_versatile_fluo' for 'StarDist2D'.\n",
      "Loading network weights from 'weights_best.h5'.\n",
      "Loading thresholds from 'thresholds.json'.\n",
      "Using default values: prob_thresh=0.479071, nms_thresh=0.3.\n"
     ]
    }
   ],
   "source": [
    "model_stardist = StarDist2D.from_pretrained('2D_versatile_fluo')"
   ]
  },
  {
   "cell_type": "code",
   "execution_count": null,
   "metadata": {
    "scrolled": true
   },
   "outputs": [],
   "source": [
    "#generate stardist mask for all\n",
    "segPath_new='TIFS/segmentations_new'\n",
    "for p in phenoLabels:\n",
    "    print(p)\n",
    "    if not os.path.exists(os.path.join(dataDir,p,segPath_new)):\n",
    "        os.mkdir(os.path.join(dataDir,p,segPath_new))\n",
    "    for s in os.listdir(os.path.join(dataDir,p,tif3dpath)):\n",
    "        if os.path.exists(os.path.join(dataDir,p,segPath_new,s)):\n",
    "            continue\n",
    "        print(s)\n",
    "        #load 2d dapi\n",
    "        img2d=io.imread(os.path.join(dataDir,p,proj2dpath,'DAPI',s))\n",
    "        labeled_nuclei, linfo = model_stardist.predict_instances(gaussian(normalize(img2d),5),n_tiles=(16,16))\n",
    "        io.imsave(os.path.join(dataDir,p,segPath_new,s),labeled_nuclei)"
   ]
  },
  {
   "cell_type": "markdown",
   "metadata": {},
   "source": [
    "### filter by size, clear border, rescale intensity, save stains, save patient ID, save coordinates"
   ]
  },
  {
   "cell_type": "markdown",
   "metadata": {},
   "source": [
    "add control batches\n",
    "\n",
    "channel order: dapi,gfap,map2,lmnb"
   ]
  },
  {
   "cell_type": "code",
   "execution_count": 4,
   "metadata": {},
   "outputs": [],
   "source": [
    "newbatchID=['P10-20-1','P10-20-2','P16-19-1','P16-19-2','P33-18-1','P33-18-2','P38-19-1','P38-19-2','P38-19-3','P49-18-1','P49-18-2','P49-18-3','P85-19-1','P85-19-2','P89-19-1','P89-19-2']"
   ]
  },
  {
   "cell_type": "code",
   "execution_count": null,
   "metadata": {
    "scrolled": true
   },
   "outputs": [],
   "source": [
    "segPath_new='TIFS/segmentations_new'\n",
    "imgSize=128\n",
    "radius=int(imgSize/2)\n",
    "allImgs=None\n",
    "allCoord=None\n",
    "allImgNames=None\n",
    "allPatientID=None\n",
    "allCat=None\n",
    "\n",
    "minNucSize=300\n",
    "laminThreshold=0.3 #by area\n",
    "minmaxScale=(10,99.99)\n",
    "for p in phenoLabels:\n",
    "    print(p)\n",
    "    \n",
    "    for s in os.listdir(os.path.join(dataDir,p,tif3dpath)):\n",
    "        print(s)\n",
    "        #load 2d dapi\n",
    "        img2d=io.imread(os.path.join(dataDir,p,proj2dpath,'DAPI',s))\n",
    "        img2d[img2d<np.percentile(img2d,minmaxScale[0])]=np.percentile(img2d,minmaxScale[0])\n",
    "        img2d=(img2d-np.min(img2d))/(np.max(img2d)-np.min(img2d))\n",
    "        #load 2d gfap\n",
    "        img2d_gfap=io.imread(os.path.join(dataDir,p,proj2dpath,'GFAP',s))\n",
    "        img2d_gfap[img2d_gfap<np.percentile(img2d_gfap,minmaxScale[0])]=np.percentile(img2d_gfap,minmaxScale[0])\n",
    "        img2d_gfap=(img2d_gfap-np.min(img2d_gfap))/(np.max(img2d_gfap)-np.min(img2d_gfap))\n",
    "        #load 2d map2\n",
    "        img2d_map2=io.imread(os.path.join(dataDir,p,proj2dpath,'MAP2',s))\n",
    "        img2d_map2[img2d_map2<np.percentile(img2d_map2,minmaxScale[0])]=np.percentile(img2d_map2,minmaxScale[0])\n",
    "        img2d_map2=(img2d_map2-np.min(img2d_map2))/(np.max(img2d_map2)-np.min(img2d_map2))\n",
    "        #load 2d lmnb\n",
    "        img2d_lmnb=io.imread(os.path.join(dataDir,p,proj2dpath,'LMNB',s))\n",
    "        img2d_lmnb[img2d_lmnb<np.percentile(img2d_lmnb,minmaxScale[0])]=np.percentile(img2d_lmnb,minmaxScale[0])\n",
    "        img2d_lmnb=(img2d_lmnb-np.min(img2d_lmnb))/(np.max(img2d_lmnb)-np.min(img2d_lmnb))\n",
    "        \n",
    "        imgSeg=io.imread(os.path.join(dataDir,p,segPath_new,s))\n",
    "        imgSeg=clear_border(imgSeg)\n",
    "        \n",
    "        currImgs=np.zeros((np.unique(imgSeg).size-1,4,imgSize,imgSize))\n",
    "        currCoord=np.zeros((np.unique(imgSeg).size-1,2))\n",
    "        imgCount=0\n",
    "        for idx in np.unique(imgSeg):\n",
    "            if idx==0:\n",
    "                continue\n",
    "            current_nuc=imgSeg==idx\n",
    "            \n",
    "            x,y = center_of_mass(current_nuc)\n",
    "            x=int(x)\n",
    "            y=int(y)\n",
    "            if x-radius<0 or x+radius>(img2d.shape[0]) or y-radius<0 or y+radius>(img2d.shape[1]):\n",
    "                continue\n",
    "            \n",
    "            if np.sum(current_nuc)<minNucSize:\n",
    "                lmnbPix=img2d_lmnb[current_nuc]>0\n",
    "                if np.sum(lmnbPix)/np.sum(current_nuc)<laminThreshold:\n",
    "                    continue\n",
    "            currImgs_0=np.copy(img2d[x-radius:x+radius,y-radius:y+radius])\n",
    "            currImgs_0_seg=imgSeg[x-radius:x+radius,y-radius:y+radius]\n",
    "            currImgs_0[currImgs_0_seg!=idx]=0\n",
    "            currImgs_3=np.copy(img2d_lmnb[x-radius:x+radius,y-radius:y+radius])\n",
    "            currImgs_3[currImgs_0_seg!=idx]=0\n",
    "            currImgs[imgCount,0]=currImgs_0\n",
    "            currImgs[imgCount,1]=img2d_gfap[x-radius:x+radius,y-radius:y+radius]\n",
    "            currImgs[imgCount,2]=img2d_map2[x-radius:x+radius,y-radius:y+radius]\n",
    "            currImgs[imgCount,3]=currImgs_3\n",
    "            currCoord[imgCount]=np.array([x,y])\n",
    "            \n",
    "            imgCount+=1\n",
    "        currImgs=currImgs[:imgCount]\n",
    "        currCoord=currCoord[:imgCount]\n",
    "        sname=s.split('.')[0]\n",
    "        currImgName=np.repeat(sname,imgCount)\n",
    "        currPatientID=np.repeat(sname.split('-')[0]+'-'+sname.split('-')[1],imgCount)\n",
    "        currCat=np.repeat(p,imgCount)\n",
    "        \n",
    "        if allImgs is None:\n",
    "            allImgs=currImgs\n",
    "            allImgNames=currImgName\n",
    "            allCoord=currCoord\n",
    "            allPatientID=currPatientID\n",
    "            allCat=currCat\n",
    "        else:\n",
    "            allImgs=np.concatenate((allImgs,currImgs),axis=0)\n",
    "            allImgNames=np.concatenate((allImgNames,currImgName))\n",
    "            allCoord=np.concatenate((allCoord,currCoord),axis=0)\n",
    "            allPatientID=np.concatenate((allPatientID,currPatientID))\n",
    "            allCat=np.concatenate((allCat,currCat))"
   ]
  },
  {
   "cell_type": "code",
   "execution_count": 63,
   "metadata": {},
   "outputs": [],
   "source": [
    "savedir_processed=os.path.join(dataDir,'processed')\n",
    "with open(os.path.join(savedir_processed,'allImgs_noMaxPerc_minmax_segNuc'), 'wb') as output:\n",
    "    pickle.dump(allImgs, output, pickle.HIGHEST_PROTOCOL)\n",
    "with open(os.path.join(savedir_processed,'allImgNames'), 'wb') as output:\n",
    "    pickle.dump(allImgNames, output, pickle.HIGHEST_PROTOCOL)\n",
    "with open(os.path.join(savedir_processed,'allCoord'), 'wb') as output:\n",
    "    pickle.dump(allCoord, output, pickle.HIGHEST_PROTOCOL)\n",
    "with open(os.path.join(savedir_processed,'allPatientID'), 'wb') as output:\n",
    "    pickle.dump(allPatientID, output, pickle.HIGHEST_PROTOCOL)\n",
    "with open(os.path.join(savedir_processed,'allCat'), 'wb') as output:\n",
    "    pickle.dump(allCat, output, pickle.HIGHEST_PROTOCOL)"
   ]
  },
  {
   "cell_type": "code",
   "execution_count": 8,
   "metadata": {},
   "outputs": [
    {
     "data": {
      "text/plain": [
       "(97530, 4, 128, 128)"
      ]
     },
     "execution_count": 8,
     "metadata": {},
     "output_type": "execute_result"
    }
   ],
   "source": [
    "allImgs.shape"
   ]
  },
  {
   "cell_type": "markdown",
   "metadata": {},
   "source": [
    "### figure 1 crops"
   ]
  },
  {
   "cell_type": "code",
   "execution_count": 17,
   "metadata": {},
   "outputs": [],
   "source": [
    "p='Control'\n",
    "s='P21-17.tif'\n",
    "img2d_dapi=io.imread(os.path.join(dataDir,p,proj2dpath,'DAPI',s))\n",
    "#load 2d gfap\n",
    "img2d_gfap=io.imread(os.path.join(dataDir,p,proj2dpath,'GFAP',s))\n",
    "img2d_gfap=(img2d_gfap-np.min(img2d_gfap))/(np.max(img2d_gfap)-np.min(img2d_gfap))\n",
    "#load 2d map2\n",
    "img2d_map2=io.imread(os.path.join(dataDir,p,proj2dpath,'MAP2',s))\n",
    "#load 2d lmnb\n",
    "img2d_lmnb=io.imread(os.path.join(dataDir,p,proj2dpath,'LMNB',s))\n",
    "\n",
    "\n",
    "savepath='/media/xinyi/T7 Shield/neuro/processed'\n",
    "# plt.figure(figsize = (20,20))\n",
    "plt.imsave(os.path.join(savepath,'fig1dapi.tiff'),img2d_dapi[1000:2500,1000:4000],vmin=np.percentile(img2d_dapi,10),vmax=np.percentile(img2d_dapi,99.99))"
   ]
  },
  {
   "cell_type": "code",
   "execution_count": 18,
   "metadata": {},
   "outputs": [],
   "source": [
    "plt.imsave(os.path.join(savepath,'fig1gfap.tiff'),img2d_gfap[1000:2500,1000:4000],vmin=np.percentile(img2d_gfap,10),vmax=np.percentile(img2d_gfap,99.99))"
   ]
  },
  {
   "cell_type": "code",
   "execution_count": 19,
   "metadata": {},
   "outputs": [],
   "source": [
    "plt.imsave(os.path.join(savepath,'fig1map2.tiff'),img2d_map2[1000:2500,1000:4000],vmin=np.percentile(img2d_map2,10),vmax=np.percentile(img2d_map2,99.99))"
   ]
  },
  {
   "cell_type": "code",
   "execution_count": 20,
   "metadata": {},
   "outputs": [],
   "source": [
    "plt.imsave(os.path.join(savepath,'fig1lmnb.tiff'),img2d_lmnb[1000:2500,1000:4000],vmin=np.percentile(img2d_lmnb,10),vmax=np.percentile(img2d_lmnb,99.99))"
   ]
  }
 ],
 "metadata": {
  "kernelspec": {
   "display_name": "neuro",
   "language": "python",
   "name": "neuro"
  },
  "language_info": {
   "codemirror_mode": {
    "name": "ipython",
    "version": 3
   },
   "file_extension": ".py",
   "mimetype": "text/x-python",
   "name": "python",
   "nbconvert_exporter": "python",
   "pygments_lexer": "ipython3",
   "version": "3.10.14"
  }
 },
 "nbformat": 4,
 "nbformat_minor": 4
}
