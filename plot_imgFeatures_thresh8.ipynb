{
 "cells": [
  {
   "cell_type": "code",
   "execution_count": 64,
   "id": "a5839f2d",
   "metadata": {},
   "outputs": [],
   "source": [
    "import time\n",
    "import os\n",
    "\n",
    "import scanpy\n",
    "import numpy as np\n",
    "import scipy.sparse as sp\n",
    "\n",
    "import torch\n",
    "from torch import optim\n",
    "from torch.utils.data import DataLoader\n",
    "\n",
    "import models.modelsCNN as modelsCNN\n",
    "import models.optimizer as optimizer\n",
    "\n",
    "import pickle\n",
    "import matplotlib.pyplot as plt\n",
    "import seaborn as sns\n",
    "import pandas as pd\n",
    "import gc\n",
    "from skimage import io,measure\n",
    "import scipy.stats\n",
    "import utils.plot\n",
    "import models.train_metaClf\n",
    "\n",
    "import sys\n",
    "import os\n",
    "from nmco.utils.run_nuclear_feature_extraction import run_nuclear_chromatin_feat_ext\n",
    "from tqdm import tqdm\n",
    "import statsmodels.stats.multitest as multitest\n",
    "import networkx as nx"
   ]
  },
  {
   "cell_type": "code",
   "execution_count": null,
   "id": "c770ea14",
   "metadata": {},
   "outputs": [],
   "source": [
    "os.environ[\"CUDA_VISIBLE_DEVICES\"] = '3'\n",
    "\n",
    "resolution='5'\n",
    "savedir_baseline='/data/xzhang/neuro/results/jointClustering/baseline/res'+resolution\n",
    "with open(os.path.join(savedir_baseline,'pca_dapi_600'), 'rb') as output:\n",
    "    pca_dapi=pickle.load(output)\n",
    "with open(os.path.join(savedir_baseline,'pca_gfap_600'), 'rb') as output:\n",
    "    pca_gfap=pickle.load(output)\n",
    "with open(os.path.join(savedir_baseline,'pca_map2_600'), 'rb') as output:\n",
    "    pca_map2=pickle.load(output)\n",
    "with open(os.path.join(savedir_baseline,'pca_lmnb_600'), 'rb') as output:\n",
    "    pca_lmnb=pickle.load(output)\n",
    "with open(os.path.join(savedir_baseline,'modAll'), 'rb') as output:\n",
    "    modAll=pickle.load(output)\n",
    "with open(os.path.join(savedir_baseline,'silAll'), 'rb') as output:\n",
    "    silAll=pickle.load(output)\n",
    "with open(os.path.join(savedir_baseline,'moddapi'), 'rb') as output:\n",
    "    moddapi=pickle.load(output)\n",
    "with open(os.path.join(savedir_baseline,'sildapi'), 'rb') as output:\n",
    "    sildapi=pickle.load(output)\n",
    "with open(os.path.join(savedir_baseline,'modgfap'), 'rb') as output:\n",
    "    modgfap=pickle.load(output)\n",
    "with open(os.path.join(savedir_baseline,'silgfap'), 'rb') as output:\n",
    "    silgfap=pickle.load(output)\n",
    "with open(os.path.join(savedir_baseline,'modmap2'), 'rb') as output:\n",
    "    modmap2=pickle.load(output)\n",
    "with open(os.path.join(savedir_baseline,'silmap2'), 'rb') as output:\n",
    "    silmap2=pickle.load(output)\n",
    "with open(os.path.join(savedir_baseline,'modlmnb'), 'rb') as output:\n",
    "    modlmnb=pickle.load(output)\n",
    "with open(os.path.join(savedir_baseline,'sillmnb'), 'rb') as output:\n",
    "    sillmnb=pickle.load(output)\n",
    "with open(os.path.join(savedir_baseline,'leidenRes3_10samples'), 'rb') as output:\n",
    "    leidenResAll=pickle.load(output)\n",
    "    \n",
    "savedir_processed='/data/xzhang/neuro/processed'\n",
    "resDir='/data/xzhang/neuro/results/plots/cnnvaeexp0_segNucall'\n",
    "saveDir=os.path.join(savedir_baseline,'cnnvaeexp0_segNucall')\n",
    "if not os.path.exists(saveDir):\n",
    "    os.mkdir(saveDir)\n",
    "\n",
    "\n",
    "with open(os.path.join(resDir,'leiden_res'+resolution), 'rb') as output:\n",
    "    finalPartition=pickle.load(output)\n",
    "    \n",
    "jointPartition=np.copy(finalPartition)\n",
    "modFrac=0.3\n",
    "modFrac_dapi=(moddapi/modAll>modFrac).astype(int)\n",
    "modFrac_map2=(modmap2/modAll>modFrac).astype(int)\n",
    "modFrac_gfap=(modgfap/modAll>modFrac).astype(int)\n",
    "modFrac_lmnb=(modlmnb/modAll>modFrac).astype(int)\n",
    "modFrac_sum=modFrac_dapi+modFrac_gfap+modFrac_lmnb+modFrac_map2\n",
    "\n",
    "silAll_mean=np.zeros(np.unique(jointPartition).size)\n",
    "for c in np.unique(jointPartition):\n",
    "    silAll_mean[c]=np.mean(silAll[jointPartition==c])\n",
    "    \n",
    "sildapi_mean=np.zeros(np.unique(jointPartition).size)\n",
    "for c in np.unique(jointPartition):\n",
    "    sildapi_mean[c]=np.mean(sildapi[jointPartition==c])\n",
    "    \n",
    "silgfap_mean=np.zeros(np.unique(jointPartition).size)\n",
    "for c in np.unique(jointPartition):\n",
    "    silgfap_mean[c]=np.mean(silgfap[jointPartition==c])\n",
    "\n",
    "silmap2_mean=np.zeros(np.unique(jointPartition).size)\n",
    "for c in np.unique(jointPartition):\n",
    "    silmap2_mean[c]=np.mean(silmap2[jointPartition==c])\n",
    "sillmnb_mean=np.zeros(np.unique(jointPartition).size)\n",
    "for c in np.unique(jointPartition):\n",
    "    sillmnb_mean[c]=np.mean(sillmnb[jointPartition==c])\n",
    "silAll_pos=np.zeros(np.unique(jointPartition).size)\n",
    "for c in np.unique(jointPartition):\n",
    "    silAll_pos[c]=np.sum(silAll[jointPartition==c]>0)/np.sum(jointPartition==c)\n",
    "sildapi_pos=np.zeros(np.unique(jointPartition).size)\n",
    "for c in np.unique(jointPartition):\n",
    "    sildapi_pos[c]=np.sum(sildapi[jointPartition==c]>0)/np.sum(jointPartition==c)\n",
    "silmap2_pos=np.zeros(np.unique(jointPartition).size)\n",
    "for c in np.unique(jointPartition):\n",
    "    silmap2_pos[c]=np.sum(silmap2[jointPartition==c]>0)/np.sum(jointPartition==c)\n",
    "silgfap_pos=np.zeros(np.unique(jointPartition).size)\n",
    "for c in np.unique(jointPartition):\n",
    "    silgfap_pos[c]=np.sum(silgfap[jointPartition==c]>0)/np.sum(jointPartition==c)\n",
    "sillmnb_pos=np.zeros(np.unique(jointPartition).size)\n",
    "for c in np.unique(jointPartition):\n",
    "    sillmnb_pos[c]=np.sum(sillmnb[jointPartition==c]>0)/np.sum(jointPartition==c)\n",
    "\n",
    "silmean_frac=0.3\n",
    "silmean_frac_neg=2\n",
    "def comparesilmean(sildapi_mean,silAll_mean,silmean_frac,silmean_frac_neg):\n",
    "    silmean_frac_dapi=np.zeros(silAll_mean.size)\n",
    "    sildapi_mean_posIdx=np.arange(silAll_mean.size)[sildapi_mean>0]\n",
    "    sildapi_mean_negIdx=np.arange(silAll_mean.size)[sildapi_mean<0]\n",
    "#     print(sildapi_mean_negIdx[sildapi_mean[sildapi_mean<0]>(silAll_mean[sildapi_mean<0]*silmean_frac_neg)])\n",
    "    silmean_frac_dapi[sildapi_mean_posIdx[sildapi_mean[sildapi_mean>0]>(silAll_mean[sildapi_mean>0]*silmean_frac)]]=1\n",
    "    silmean_frac_dapi[sildapi_mean_negIdx[sildapi_mean[sildapi_mean<0]>(silAll_mean[sildapi_mean<0]*silmean_frac_neg)]]=1\n",
    "\n",
    "    return silmean_frac_dapi\n",
    "\n",
    "silmean_frac_dapi=comparesilmean(sildapi_mean,silAll_mean,silmean_frac,silmean_frac_neg)\n",
    "silmean_frac_gfap=comparesilmean(silgfap_mean,silAll_mean,silmean_frac,silmean_frac_neg)\n",
    "silmean_frac_map2=comparesilmean(silmap2_mean,silAll_mean,silmean_frac,silmean_frac_neg)\n",
    "silmean_frac_lmnb=comparesilmean(sillmnb_mean,silAll_mean,silmean_frac,silmean_frac_neg)\n",
    "\n",
    "silmean_frac_sum=silmean_frac_dapi+silmean_frac_gfap+silmean_frac_map2+silmean_frac_lmnb\n",
    "\n",
    "silpos_frac=0.3\n",
    "silpos_dapi=(sildapi_pos/silAll_pos>silpos_frac).astype(int)\n",
    "silpos_gfap=(silgfap_pos/silAll_pos>silpos_frac).astype(int)\n",
    "silpos_map2=(silmap2_pos/silAll_pos>silpos_frac).astype(int)\n",
    "silpos_lmnb=(sillmnb_pos/silAll_pos>silpos_frac).astype(int)\n",
    "\n",
    "silPos_sum=silpos_dapi+silpos_gfap+silpos_map2+silpos_lmnb\n",
    "\n",
    "\n",
    "clusterIdx_pass=np.arange(np.unique(finalPartition).size)[(modFrac_sum>1)+(silmean_frac_sum>1)+(silPos_sum>1)]\n",
    "\n",
    "nsamples=10\n",
    "leidenJoint_overlap=np.zeros((np.unique(jointPartition).size,nsamples))\n",
    "for cj in np.unique(jointPartition):\n",
    "    for s in range(nsamples):\n",
    "        _,counts=np.unique(leidenResAll[jointPartition==cj,s],return_counts=True)\n",
    "        leidenJoint_overlap[cj,s]=np.max(counts)/np.sum(jointPartition==cj)\n",
    "\n",
    "overlap_mean=np.mean(leidenJoint_overlap,axis=1)\n",
    "overlap_std=np.std(leidenJoint_overlap,axis=1)\n",
    "\n",
    "overlap_mean=np.mean(leidenJoint_overlap,axis=1)\n",
    "overlap_std=np.std(leidenJoint_overlap,axis=1)\n",
    "\n",
    "randomAll=np.zeros((leidenResAll.shape[0],nsamples)).astype(int)\n",
    "\n",
    "for s in range(nsamples):\n",
    "    randomS=np.copy(jointPartition)\n",
    "    np.random.seed(s)\n",
    "    np.random.shuffle(randomS)\n",
    "\n",
    "    randomAll[:,s]=randomS\n",
    "leidenJoint_overlap_random=np.zeros((np.unique(jointPartition).size,nsamples))\n",
    "for cj in np.unique(jointPartition):\n",
    "    for s in range(nsamples):\n",
    "        _,counts=np.unique(randomAll[jointPartition==cj,s],return_counts=True)\n",
    "        leidenJoint_overlap_random[cj,s]=np.max(counts)/np.sum(jointPartition==cj)\n",
    "\n",
    "overlap_mean_random=np.mean(leidenJoint_overlap_random,axis=1)\n",
    "overlap_std_random=np.std(leidenJoint_overlap_random,axis=1)\n",
    "\n",
    "clusterIdx_robust=np.arange(np.unique(finalPartition).size)[(overlap_mean-overlap_std)>(overlap_mean_random+overlap_std_random)]\n",
    "finalPartition_keep=np.intersect1d(clusterIdx_robust,clusterIdx_pass)\n",
    "\n",
    "\n",
    "    \n",
    "with open(os.path.join(savedir_processed,'meta_processed'), 'rb') as output:\n",
    "    meta=pickle.load(output)\n",
    "\n",
    "# annoUsed=np.array(['AAO', 'AAD', 'Duration', 'Gender','Clinical Diag','Brain Weight', 'Mutations',\n",
    "#                    'APOE', 'Braak Tau', 'Thal Phase', 'CERAD', 'CAA', 'SVD','alpha-syn', 'TDP43'])\n",
    "annoUsed=np.array(['Path Diag','Clinical Diag','Brain Weight', 'Mutations',\n",
    "                   'APOE', 'Braak Tau', 'Thal Phase', 'CERAD', 'CAA', 'SVD','alpha-syn', 'TDP43',\n",
    "                   'AAO', 'AAD', 'Duration', 'Gender'])\n",
    "annoUsed_numeric=np.array(['AAO', 'AAD', 'Duration','Brain Weight','Braak Tau', 'Thal Phase', 'CERAD', 'CAA', 'SVD'])\n",
    "\n",
    "meta=meta[annoUsed]\n",
    "stains=np.array(['DAPI','GFAP','MAP2','LMNB'])\n",
    "\n",
    "    \n",
    "finalPartition_keepIdx=np.repeat(False, finalPartition.size)\n",
    "for c in finalPartition_keep:\n",
    "    finalPartition_keepIdx[finalPartition==c]=True\n",
    "finalPartition_keep_input=np.copy(finalPartition)\n",
    "finalPartition_keep_input[np.logical_not(finalPartition_keepIdx)]=-1\n",
    "\n"
   ]
  },
  {
   "cell_type": "code",
   "execution_count": 3,
   "id": "3fe30e48",
   "metadata": {},
   "outputs": [
    {
     "name": "stdout",
     "output_type": "stream",
     "text": [
      "64\n",
      "50\n"
     ]
    }
   ],
   "source": [
    "with open(os.path.join(savedir_processed,'allPatientID'), 'rb') as output:\n",
    "    allPatientIDs=pickle.load(output)\n",
    "meta=meta.loc[np.unique(allPatientIDs)]\n",
    "\n",
    "with open(os.path.join(savedir_processed,'allImgNames'), 'rb') as output:\n",
    "    allImgNames=pickle.load(output)\n",
    "print(np.unique(allImgNames).size)\n",
    "print(np.unique(allPatientIDs).size)\n",
    "\n",
    "with open(os.path.join(savedir_processed,'allImgs_noMaxPerc_minmax_segNuc'), 'rb') as output:\n",
    "    allImg=pickle.load(output)"
   ]
  },
  {
   "cell_type": "code",
   "execution_count": 4,
   "id": "f180c82d",
   "metadata": {},
   "outputs": [
    {
     "data": {
      "text/plain": [
       "(97530, 4, 128, 128)"
      ]
     },
     "execution_count": 4,
     "metadata": {},
     "output_type": "execute_result"
    }
   ],
   "source": [
    "allImg.shape"
   ]
  },
  {
   "cell_type": "code",
   "execution_count": null,
   "id": "54929f11",
   "metadata": {
    "scrolled": true
   },
   "outputs": [],
   "source": [
    "#NMCO features for DAPI\n",
    "#NMCO features for LMNB that differ from DAPI\n",
    "nmco_dapi=pd.DataFrame()\n",
    "nmco_lmnb=pd.DataFrame()\n",
    "for i in range(allImg.shape[0]):\n",
    "    if i%1000==0:\n",
    "        print(i)\n",
    "    segCurr=np.zeros((128,128))\n",
    "    segCurr[allImg[i,0]>0]=1\n",
    "    nmco_dapi = pd.concat([nmco_dapi, run_nuclear_chromatin_feat_ext(allImg[i,0]*255,segCurr,'none',hc_threshold=1.5)])\n",
    "    nmco_lmnb = pd.concat([nmco_lmnb,run_nuclear_chromatin_feat_ext(allImg[i,3]*255,segCurr,'none',hc_threshold=1.5)[lmnbfeatures]])\n",
    "    "
   ]
  },
  {
   "cell_type": "code",
   "execution_count": 207,
   "id": "6a886b3b",
   "metadata": {},
   "outputs": [],
   "source": [
    "with open(os.path.join(savedir_processed,'nmco_dapi'), 'wb') as output:\n",
    "    pickle.dump(nmco_dapi,output,pickle.HIGHEST_PROTOCOL)\n",
    "with open(os.path.join(savedir_processed,'nmco_lmnb'), 'wb') as output:\n",
    "    pickle.dump(nmco_lmnb,output,pickle.HIGHEST_PROTOCOL)"
   ]
  },
  {
   "cell_type": "code",
   "execution_count": 137,
   "id": "75fc0048",
   "metadata": {},
   "outputs": [],
   "source": [
    "map2gfapFeatureNames=['fragCounts','area_mean','area_std','area_sum','area_max','major_axis_length_mean','major_axis_length_std','major_axis_length_sum']\n",
    "map2gfapFeatureNames=np.concatenate((map2gfapFeatureNames,np.char.add('major_axis_length_bins',np.arange(9).astype(int).astype(str))))\n",
    "map2gfapFeatureNames=np.concatenate((map2gfapFeatureNames,['minor_axis_length_mean','minor_axis_length_std']))\n",
    "map2gfapFeatureNames=np.concatenate((map2gfapFeatureNames,np.char.add('minor_axis_length_bins',np.arange(3).astype(int).astype(str))))\n",
    "map2gfapFeatureNames=np.concatenate((map2gfapFeatureNames,['eccentricity_mean','eccentricity_std','solidity_mean','solidity_std','extent_mean','extent_std','perimeter_mean','perimeter_std','perimeter_sum']))\n",
    "map2gfapFeatureNames=np.concatenate((map2gfapFeatureNames,np.char.add(['mean_intensity', 'max_intensity'],'_mean')))\n",
    "map2gfapFeatureNames=np.concatenate((map2gfapFeatureNames,np.char.add(['mean_intensity', 'max_intensity'],'_std')))\n",
    "map2gfapFeatureNames=np.concatenate((map2gfapFeatureNames,np.char.add(['mean_intensity', 'max_intensity'],'_max')))\n",
    "map2gfapFeatureNames=np.concatenate((map2gfapFeatureNames,['orientation_std','aspect_ratio_mean','aspect_ratio_std']))\n",
    "\n",
    "def getmap2gfapFeatures(imgs,thresh=0.2,minFragSize=20):\n",
    "    testImg=np.copy(imgs)\n",
    "    testImg[testImg>thresh]=1\n",
    "    testImg[testImg<=thresh]=0\n",
    "    testImg_label=measure.label(testImg)\n",
    "    \n",
    "    resFeatures=np.zeros((imgs.shape[0],40))\n",
    "    \n",
    "    for imgIdx in tqdm(range(imgs.shape[0])):\n",
    "        testImg_label_i=testImg_label[imgIdx]\n",
    "        \n",
    "        #filter by size\n",
    "        fragID,fragSize=np.unique(testImg_label_i,return_counts=True)\n",
    "        fragID_sizeFiltered=fragID[fragSize>=minFragSize]\n",
    "        for i in fragID[fragSize<minFragSize]:\n",
    "            testImg_label_i[testImg_label_i==i]=0\n",
    "\n",
    "        #feature of each fragment\n",
    "        fragFeatures=pd.DataFrame(measure.regionprops_table(testImg_label_i,intensity_image=imgs[imgIdx],properties=[\n",
    "            'area', 'major_axis_length', 'minor_axis_length', 'eccentricity',\n",
    "            'solidity', 'extent', 'perimeter','mean_intensity', 'max_intensity', 'orientation'\n",
    "        ]))\n",
    "        summary = fragFeatures.agg(['count', 'mean', 'std', 'min', 'max', 'sum'])\n",
    "        length_bins, _ = np.histogram(fragFeatures['major_axis_length'], bins=np.linspace(0, allImg.shape[2], 10))\n",
    "        width_bins, _ = np.histogram(fragFeatures['minor_axis_length'], bins=np.linspace(0, allImg.shape[2]/3, 4))\n",
    "        aspectratio=fragFeatures['major_axis_length']/fragFeatures['minor_axis_length']\n",
    "    \n",
    "        resFeatures[imgIdx,0:5]=summary.loc[['count','mean','std','sum','max'],'area']\n",
    "        resFeatures[imgIdx,5:8]=summary.loc[['mean','std','sum'],'major_axis_length']\n",
    "        resFeatures[imgIdx,8:17]=length_bins\n",
    "        resFeatures[imgIdx,17:19]=summary.loc[['mean','std'],'minor_axis_length']\n",
    "        resFeatures[imgIdx,19:22]=width_bins\n",
    "        resFeatures[imgIdx,22:24]=summary.loc[['mean','std'],'eccentricity']\n",
    "        resFeatures[imgIdx,24:26]=summary.loc[['mean','std'],'solidity']\n",
    "        resFeatures[imgIdx,26:28]=summary.loc[['mean','std'],'extent']\n",
    "        resFeatures[imgIdx,28:31]=summary.loc[['mean','std','sum'],'perimeter']\n",
    "        resFeatures[imgIdx,31:37]=summary.loc[['mean','std','max'],['mean_intensity', 'max_intensity']].to_numpy().flatten()\n",
    "        resFeatures[imgIdx,37]=summary.loc['std','orientation']\n",
    "        resFeatures[imgIdx,38]=np.mean(aspectratio)\n",
    "        resFeatures[imgIdx,39]=np.std(aspectratio)\n",
    "\n",
    "        "
   ]
  },
  {
   "cell_type": "code",
   "execution_count": null,
   "id": "f6f76a60",
   "metadata": {},
   "outputs": [],
   "source": [
    "features_map2=getmap2gfapFeatures(allImg[:,2])\n",
    "with open(os.path.join(savedir_processed,'features_map2'), 'wb') as output:\n",
    "    pickle.dump(features_map2,output,pickle.HIGHEST_PROTOCOL) "
   ]
  },
  {
   "cell_type": "code",
   "execution_count": null,
   "id": "8e52e00c",
   "metadata": {},
   "outputs": [],
   "source": [
    "features_gfap=getmap2gfapFeatures(allImg[:,1])\n",
    "with open(os.path.join(savedir_processed,'features_gfap'), 'wb') as output:\n",
    "    pickle.dump(features_gfap,output,pickle.HIGHEST_PROTOCOL)"
   ]
  },
  {
   "cell_type": "code",
   "execution_count": null,
   "id": "12bc8676",
   "metadata": {},
   "outputs": [],
   "source": [
    "with open(os.path.join(savedir_processed,'nmco_dapi'), 'rb') as output:\n",
    "    nmco_dapi=pickle.load(output)\n",
    "with open(os.path.join(savedir_processed,'nmco_lmnb'), 'rb') as output:\n",
    "    nmco_lmnb=pickle.load(output)\n",
    "with open(os.path.join(savedir_processed,'invagination/allInvag'), 'rb') as output:\n",
    "    allInvag=pickle.load(output)\n",
    "    \n",
    "allInvag=np.sum(allInvag>0,axis=(1,2))\n",
    "allInvag=allInvag/np.sum(allImg[:,3]>0,axis=(1,2))\n",
    "allInvag[allInvag>np.percentile(allInvag,99.9)]=np.percentile(allInvag,99.9)\n",
    "nmco_lmnb['invagination']=allInvag\n",
    "    \n",
    "nmco_dapi=nmco_dapi.iloc[:,1:]  \n",
    "nmco_dapi_names=nmco_dapi.columns\n",
    "nmco_lmnb_names=nmco_lmnb.columns\n",
    "\n",
    "nmco_dapi=nmco_dapi.astype(float)\n",
    "nmco_dapi=scipy.stats.zscore(nmco_dapi,axis=0,nan_policy='omit')\n",
    "nmco_dapi=np.nan_to_num(nmco_dapi,nan=0)\n",
    "nmco_lmnb=nmco_lmnb.astype(float)\n",
    "nmco_lmnb=scipy.stats.zscore(nmco_lmnb,axis=0,nan_policy='omit')\n",
    "nmco_lmnb=np.nan_to_num(nmco_lmnb,nan=0)\n",
    "\n",
    "nonzeroDapi=np.array(np.sum(np.logical_and(nmco_dapi!=0,np.isfinite(nmco_dapi)),axis=0)>100)\n",
    "nonzeroLMNB=np.array(np.sum(np.logical_and(nmco_lmnb!=0,np.isfinite(nmco_lmnb)),axis=0)>100)\n",
    "nmco_dapi=nmco_dapi[:,nonzeroDapi]\n",
    "nmco_lmnb=nmco_lmnb[:,nonzeroLMNB]\n",
    "nmco_dapi_names=nmco_dapi_names[nonzeroDapi]\n",
    "nmco_lmnb_names=nmco_lmnb_names[nonzeroLMNB]\n",
    "\n"
   ]
  },
  {
   "cell_type": "code",
   "execution_count": 565,
   "id": "a28ed3e1",
   "metadata": {
    "scrolled": true
   },
   "outputs": [
    {
     "data": {
      "text/html": [
       "<div>\n",
       "<style scoped>\n",
       "    .dataframe tbody tr th:only-of-type {\n",
       "        vertical-align: middle;\n",
       "    }\n",
       "\n",
       "    .dataframe tbody tr th {\n",
       "        vertical-align: top;\n",
       "    }\n",
       "\n",
       "    .dataframe thead th {\n",
       "        text-align: right;\n",
       "    }\n",
       "</style>\n",
       "<table border=\"1\" class=\"dataframe\">\n",
       "  <thead>\n",
       "    <tr style=\"text-align: right;\">\n",
       "      <th></th>\n",
       "      <th>label</th>\n",
       "      <th>min_calliper</th>\n",
       "      <th>max_calliper</th>\n",
       "      <th>smallest_largest_calliper</th>\n",
       "      <th>min_radius</th>\n",
       "      <th>max_radius</th>\n",
       "      <th>med_radius</th>\n",
       "      <th>avg_radius</th>\n",
       "      <th>mode_radius</th>\n",
       "      <th>d25_radius</th>\n",
       "      <th>...</th>\n",
       "      <th>moments_central-3-1</th>\n",
       "      <th>moments_central-3-2</th>\n",
       "      <th>moments_central-3-3</th>\n",
       "      <th>moments_hu-0</th>\n",
       "      <th>moments_hu-1</th>\n",
       "      <th>moments_hu-2</th>\n",
       "      <th>moments_hu-3</th>\n",
       "      <th>moments_hu-4</th>\n",
       "      <th>moments_hu-5</th>\n",
       "      <th>moments_hu-6</th>\n",
       "    </tr>\n",
       "  </thead>\n",
       "  <tbody>\n",
       "    <tr>\n",
       "      <th>0</th>\n",
       "      <td>1</td>\n",
       "      <td>48</td>\n",
       "      <td>54</td>\n",
       "      <td>0.888889</td>\n",
       "      <td>22.426479</td>\n",
       "      <td>26.893967</td>\n",
       "      <td>24.568504</td>\n",
       "      <td>24.727505</td>\n",
       "      <td>22.426479</td>\n",
       "      <td>23.747229</td>\n",
       "      <td>...</td>\n",
       "      <td>9.851737e+06</td>\n",
       "      <td>1.670108e+07</td>\n",
       "      <td>2.487239e+09</td>\n",
       "      <td>0.160430</td>\n",
       "      <td>0.000382</td>\n",
       "      <td>3.008645e-06</td>\n",
       "      <td>1.392084e-08</td>\n",
       "      <td>-1.999007e-15</td>\n",
       "      <td>-2.134919e-10</td>\n",
       "      <td>2.029885e-15</td>\n",
       "    </tr>\n",
       "    <tr>\n",
       "      <th>0</th>\n",
       "      <td>1</td>\n",
       "      <td>46</td>\n",
       "      <td>49</td>\n",
       "      <td>0.938776</td>\n",
       "      <td>21.812234</td>\n",
       "      <td>24.141625</td>\n",
       "      <td>22.946066</td>\n",
       "      <td>22.956318</td>\n",
       "      <td>21.812234</td>\n",
       "      <td>22.586604</td>\n",
       "      <td>...</td>\n",
       "      <td>9.347079e+05</td>\n",
       "      <td>6.212992e+06</td>\n",
       "      <td>4.506330e+07</td>\n",
       "      <td>0.159372</td>\n",
       "      <td>0.000027</td>\n",
       "      <td>8.781220e-06</td>\n",
       "      <td>4.241349e-09</td>\n",
       "      <td>-2.186552e-16</td>\n",
       "      <td>-3.520327e-12</td>\n",
       "      <td>-7.887824e-16</td>\n",
       "    </tr>\n",
       "    <tr>\n",
       "      <th>0</th>\n",
       "      <td>1</td>\n",
       "      <td>38</td>\n",
       "      <td>45</td>\n",
       "      <td>0.844444</td>\n",
       "      <td>17.567254</td>\n",
       "      <td>22.160453</td>\n",
       "      <td>20.625363</td>\n",
       "      <td>20.295964</td>\n",
       "      <td>17.567254</td>\n",
       "      <td>19.234665</td>\n",
       "      <td>...</td>\n",
       "      <td>2.209287e+06</td>\n",
       "      <td>2.762494e+06</td>\n",
       "      <td>3.579130e+08</td>\n",
       "      <td>0.161200</td>\n",
       "      <td>0.000616</td>\n",
       "      <td>4.522033e-06</td>\n",
       "      <td>3.246924e-08</td>\n",
       "      <td>-1.189484e-14</td>\n",
       "      <td>-7.395803e-10</td>\n",
       "      <td>3.647657e-15</td>\n",
       "    </tr>\n",
       "    <tr>\n",
       "      <th>0</th>\n",
       "      <td>1</td>\n",
       "      <td>32</td>\n",
       "      <td>34</td>\n",
       "      <td>0.941176</td>\n",
       "      <td>14.110409</td>\n",
       "      <td>17.041787</td>\n",
       "      <td>15.783171</td>\n",
       "      <td>15.757180</td>\n",
       "      <td>14.110409</td>\n",
       "      <td>15.309205</td>\n",
       "      <td>...</td>\n",
       "      <td>3.653678e+05</td>\n",
       "      <td>-2.470977e+06</td>\n",
       "      <td>3.019998e+07</td>\n",
       "      <td>0.159963</td>\n",
       "      <td>0.000063</td>\n",
       "      <td>5.199073e-05</td>\n",
       "      <td>5.691835e-08</td>\n",
       "      <td>8.207128e-14</td>\n",
       "      <td>4.167803e-10</td>\n",
       "      <td>5.339765e-14</td>\n",
       "    </tr>\n",
       "    <tr>\n",
       "      <th>0</th>\n",
       "      <td>1</td>\n",
       "      <td>40</td>\n",
       "      <td>45</td>\n",
       "      <td>0.888889</td>\n",
       "      <td>18.921330</td>\n",
       "      <td>22.248444</td>\n",
       "      <td>20.066949</td>\n",
       "      <td>20.396075</td>\n",
       "      <td>18.921330</td>\n",
       "      <td>19.710119</td>\n",
       "      <td>...</td>\n",
       "      <td>3.248344e+06</td>\n",
       "      <td>6.704484e+05</td>\n",
       "      <td>5.681920e+08</td>\n",
       "      <td>0.160128</td>\n",
       "      <td>0.000261</td>\n",
       "      <td>7.727828e-08</td>\n",
       "      <td>8.827700e-10</td>\n",
       "      <td>-6.584511e-18</td>\n",
       "      <td>8.079959e-12</td>\n",
       "      <td>-3.131464e-18</td>\n",
       "    </tr>\n",
       "    <tr>\n",
       "      <th>...</th>\n",
       "      <td>...</td>\n",
       "      <td>...</td>\n",
       "      <td>...</td>\n",
       "      <td>...</td>\n",
       "      <td>...</td>\n",
       "      <td>...</td>\n",
       "      <td>...</td>\n",
       "      <td>...</td>\n",
       "      <td>...</td>\n",
       "      <td>...</td>\n",
       "      <td>...</td>\n",
       "      <td>...</td>\n",
       "      <td>...</td>\n",
       "      <td>...</td>\n",
       "      <td>...</td>\n",
       "      <td>...</td>\n",
       "      <td>...</td>\n",
       "      <td>...</td>\n",
       "      <td>...</td>\n",
       "      <td>...</td>\n",
       "      <td>...</td>\n",
       "    </tr>\n",
       "    <tr>\n",
       "      <th>0</th>\n",
       "      <td>1</td>\n",
       "      <td>58</td>\n",
       "      <td>77</td>\n",
       "      <td>0.753247</td>\n",
       "      <td>26.096435</td>\n",
       "      <td>39.651550</td>\n",
       "      <td>32.351516</td>\n",
       "      <td>32.605771</td>\n",
       "      <td>26.096435</td>\n",
       "      <td>29.895313</td>\n",
       "      <td>...</td>\n",
       "      <td>-1.408800e+08</td>\n",
       "      <td>7.307943e+08</td>\n",
       "      <td>-6.717296e+10</td>\n",
       "      <td>0.166905</td>\n",
       "      <td>0.002125</td>\n",
       "      <td>1.184987e-04</td>\n",
       "      <td>2.212580e-06</td>\n",
       "      <td>4.910995e-12</td>\n",
       "      <td>2.397618e-09</td>\n",
       "      <td>-3.548839e-11</td>\n",
       "    </tr>\n",
       "    <tr>\n",
       "      <th>0</th>\n",
       "      <td>1</td>\n",
       "      <td>15</td>\n",
       "      <td>17</td>\n",
       "      <td>0.882353</td>\n",
       "      <td>6.536653</td>\n",
       "      <td>8.263341</td>\n",
       "      <td>7.430662</td>\n",
       "      <td>7.421583</td>\n",
       "      <td>6.536653</td>\n",
       "      <td>7.165221</td>\n",
       "      <td>...</td>\n",
       "      <td>-6.100020e+03</td>\n",
       "      <td>4.514645e+03</td>\n",
       "      <td>-1.548950e+05</td>\n",
       "      <td>0.160055</td>\n",
       "      <td>0.000185</td>\n",
       "      <td>1.643391e-05</td>\n",
       "      <td>6.452975e-08</td>\n",
       "      <td>6.177150e-14</td>\n",
       "      <td>7.442083e-10</td>\n",
       "      <td>-2.449894e-14</td>\n",
       "    </tr>\n",
       "    <tr>\n",
       "      <th>0</th>\n",
       "      <td>1</td>\n",
       "      <td>14</td>\n",
       "      <td>19</td>\n",
       "      <td>0.736842</td>\n",
       "      <td>6.316353</td>\n",
       "      <td>9.027422</td>\n",
       "      <td>8.139665</td>\n",
       "      <td>7.932548</td>\n",
       "      <td>6.316353</td>\n",
       "      <td>7.482606</td>\n",
       "      <td>...</td>\n",
       "      <td>-1.223735e+04</td>\n",
       "      <td>1.501000e+03</td>\n",
       "      <td>-2.960707e+05</td>\n",
       "      <td>0.164988</td>\n",
       "      <td>0.001883</td>\n",
       "      <td>1.592549e-07</td>\n",
       "      <td>5.083143e-10</td>\n",
       "      <td>4.566916e-18</td>\n",
       "      <td>2.021248e-11</td>\n",
       "      <td>-2.445784e-19</td>\n",
       "    </tr>\n",
       "    <tr>\n",
       "      <th>0</th>\n",
       "      <td>1</td>\n",
       "      <td>23</td>\n",
       "      <td>30</td>\n",
       "      <td>0.766667</td>\n",
       "      <td>10.614457</td>\n",
       "      <td>14.593067</td>\n",
       "      <td>11.624254</td>\n",
       "      <td>12.046373</td>\n",
       "      <td>10.614457</td>\n",
       "      <td>11.230552</td>\n",
       "      <td>...</td>\n",
       "      <td>-3.034021e+05</td>\n",
       "      <td>-1.397407e+05</td>\n",
       "      <td>-2.323134e+07</td>\n",
       "      <td>0.163224</td>\n",
       "      <td>0.001138</td>\n",
       "      <td>1.617487e-06</td>\n",
       "      <td>8.693565e-08</td>\n",
       "      <td>3.215342e-14</td>\n",
       "      <td>2.550914e-09</td>\n",
       "      <td>-5.377383e-15</td>\n",
       "    </tr>\n",
       "    <tr>\n",
       "      <th>0</th>\n",
       "      <td>1</td>\n",
       "      <td>26</td>\n",
       "      <td>51</td>\n",
       "      <td>0.509804</td>\n",
       "      <td>11.022961</td>\n",
       "      <td>28.216110</td>\n",
       "      <td>18.846408</td>\n",
       "      <td>18.540122</td>\n",
       "      <td>11.022961</td>\n",
       "      <td>14.236874</td>\n",
       "      <td>...</td>\n",
       "      <td>1.011366e+06</td>\n",
       "      <td>-2.085696e+06</td>\n",
       "      <td>1.320356e+08</td>\n",
       "      <td>0.202445</td>\n",
       "      <td>0.014280</td>\n",
       "      <td>4.822789e-04</td>\n",
       "      <td>8.412966e-05</td>\n",
       "      <td>1.683987e-08</td>\n",
       "      <td>1.002943e-05</td>\n",
       "      <td>-1.895575e-09</td>\n",
       "    </tr>\n",
       "  </tbody>\n",
       "</table>\n",
       "<p>97530 rows × 202 columns</p>\n",
       "</div>"
      ],
      "text/plain": [
       "    label  min_calliper  max_calliper  smallest_largest_calliper  min_radius  \\\n",
       "0       1            48            54                   0.888889   22.426479   \n",
       "0       1            46            49                   0.938776   21.812234   \n",
       "0       1            38            45                   0.844444   17.567254   \n",
       "0       1            32            34                   0.941176   14.110409   \n",
       "0       1            40            45                   0.888889   18.921330   \n",
       "..    ...           ...           ...                        ...         ...   \n",
       "0       1            58            77                   0.753247   26.096435   \n",
       "0       1            15            17                   0.882353    6.536653   \n",
       "0       1            14            19                   0.736842    6.316353   \n",
       "0       1            23            30                   0.766667   10.614457   \n",
       "0       1            26            51                   0.509804   11.022961   \n",
       "\n",
       "    max_radius  med_radius  avg_radius  mode_radius  d25_radius  ...  \\\n",
       "0    26.893967   24.568504   24.727505    22.426479   23.747229  ...   \n",
       "0    24.141625   22.946066   22.956318    21.812234   22.586604  ...   \n",
       "0    22.160453   20.625363   20.295964    17.567254   19.234665  ...   \n",
       "0    17.041787   15.783171   15.757180    14.110409   15.309205  ...   \n",
       "0    22.248444   20.066949   20.396075    18.921330   19.710119  ...   \n",
       "..         ...         ...         ...          ...         ...  ...   \n",
       "0    39.651550   32.351516   32.605771    26.096435   29.895313  ...   \n",
       "0     8.263341    7.430662    7.421583     6.536653    7.165221  ...   \n",
       "0     9.027422    8.139665    7.932548     6.316353    7.482606  ...   \n",
       "0    14.593067   11.624254   12.046373    10.614457   11.230552  ...   \n",
       "0    28.216110   18.846408   18.540122    11.022961   14.236874  ...   \n",
       "\n",
       "    moments_central-3-1  moments_central-3-2  moments_central-3-3  \\\n",
       "0          9.851737e+06         1.670108e+07         2.487239e+09   \n",
       "0          9.347079e+05         6.212992e+06         4.506330e+07   \n",
       "0          2.209287e+06         2.762494e+06         3.579130e+08   \n",
       "0          3.653678e+05        -2.470977e+06         3.019998e+07   \n",
       "0          3.248344e+06         6.704484e+05         5.681920e+08   \n",
       "..                  ...                  ...                  ...   \n",
       "0         -1.408800e+08         7.307943e+08        -6.717296e+10   \n",
       "0         -6.100020e+03         4.514645e+03        -1.548950e+05   \n",
       "0         -1.223735e+04         1.501000e+03        -2.960707e+05   \n",
       "0         -3.034021e+05        -1.397407e+05        -2.323134e+07   \n",
       "0          1.011366e+06        -2.085696e+06         1.320356e+08   \n",
       "\n",
       "    moments_hu-0  moments_hu-1  moments_hu-2  moments_hu-3  moments_hu-4  \\\n",
       "0       0.160430      0.000382  3.008645e-06  1.392084e-08 -1.999007e-15   \n",
       "0       0.159372      0.000027  8.781220e-06  4.241349e-09 -2.186552e-16   \n",
       "0       0.161200      0.000616  4.522033e-06  3.246924e-08 -1.189484e-14   \n",
       "0       0.159963      0.000063  5.199073e-05  5.691835e-08  8.207128e-14   \n",
       "0       0.160128      0.000261  7.727828e-08  8.827700e-10 -6.584511e-18   \n",
       "..           ...           ...           ...           ...           ...   \n",
       "0       0.166905      0.002125  1.184987e-04  2.212580e-06  4.910995e-12   \n",
       "0       0.160055      0.000185  1.643391e-05  6.452975e-08  6.177150e-14   \n",
       "0       0.164988      0.001883  1.592549e-07  5.083143e-10  4.566916e-18   \n",
       "0       0.163224      0.001138  1.617487e-06  8.693565e-08  3.215342e-14   \n",
       "0       0.202445      0.014280  4.822789e-04  8.412966e-05  1.683987e-08   \n",
       "\n",
       "    moments_hu-5  moments_hu-6  \n",
       "0  -2.134919e-10  2.029885e-15  \n",
       "0  -3.520327e-12 -7.887824e-16  \n",
       "0  -7.395803e-10  3.647657e-15  \n",
       "0   4.167803e-10  5.339765e-14  \n",
       "0   8.079959e-12 -3.131464e-18  \n",
       "..           ...           ...  \n",
       "0   2.397618e-09 -3.548839e-11  \n",
       "0   7.442083e-10 -2.449894e-14  \n",
       "0   2.021248e-11 -2.445784e-19  \n",
       "0   2.550914e-09 -5.377383e-15  \n",
       "0   1.002943e-05 -1.895575e-09  \n",
       "\n",
       "[97530 rows x 202 columns]"
      ]
     },
     "execution_count": 565,
     "metadata": {},
     "output_type": "execute_result"
    }
   ],
   "source": [
    "with open(os.path.join(savedir_processed,'nmco_dapi'), 'rb') as output:\n",
    "    nmco_dapi_raw=pickle.load(output)\n",
    "nmco_dapi_raw"
   ]
  },
  {
   "cell_type": "code",
   "execution_count": null,
   "id": "4430363f",
   "metadata": {},
   "outputs": [],
   "source": [
    "map2gfapFeatureNames=['fragCounts','area_mean','area_std','area_sum','area_max','major_axis_length_mean','major_axis_length_std','major_axis_length_sum']\n",
    "map2gfapFeatureNames=np.concatenate((map2gfapFeatureNames,np.char.add('major_axis_length_bins',np.arange(9).astype(int).astype(str))))\n",
    "map2gfapFeatureNames=np.concatenate((map2gfapFeatureNames,['minor_axis_length_mean','minor_axis_length_std']))\n",
    "map2gfapFeatureNames=np.concatenate((map2gfapFeatureNames,np.char.add('minor_axis_length_bins',np.arange(3).astype(int).astype(str))))\n",
    "map2gfapFeatureNames=np.concatenate((map2gfapFeatureNames,['eccentricity_mean','eccentricity_std','solidity_mean','solidity_std','extent_mean','extent_std','perimeter_mean','perimeter_std','perimeter_sum']))\n",
    "map2gfapFeatureNames=np.concatenate((map2gfapFeatureNames,np.char.add(['mean_intensity', 'max_intensity'],'_mean')))\n",
    "map2gfapFeatureNames=np.concatenate((map2gfapFeatureNames,np.char.add(['mean_intensity', 'max_intensity'],'_std')))\n",
    "map2gfapFeatureNames=np.concatenate((map2gfapFeatureNames,np.char.add(['mean_intensity', 'max_intensity'],'_max')))\n",
    "map2gfapFeatureNames=np.concatenate((map2gfapFeatureNames,['orientation_std','aspect_ratio_mean','aspect_ratio_std']))\n",
    "\n",
    "with open(os.path.join(savedir_processed,'features_map2'), 'rb') as output:\n",
    "    features_map2=pickle.load(output)\n",
    "with open(os.path.join(savedir_processed,'features_gfap'), 'rb') as output:\n",
    "    features_gfap=pickle.load(output)\n",
    "\n",
    "features_map2=features_map2.astype(float)\n",
    "features_map2=scipy.stats.zscore(features_map2,axis=0,nan_policy='omit')\n",
    "features_map2=np.nan_to_num(features_map2,nan=0)\n",
    "features_gfap=features_gfap.astype(float)\n",
    "features_gfap=scipy.stats.zscore(features_gfap,axis=0,nan_policy='omit')\n",
    "features_gfap=np.nan_to_num(features_gfap,nan=0)\n",
    "\n",
    "nonzeroMAP2=np.array(np.sum(np.logical_and(features_map2!=0,np.isfinite(features_map2)),axis=0)>100)\n",
    "nonzeroGFAP=np.array(np.sum(np.logical_and(features_gfap!=0,np.isfinite(features_gfap)),axis=0)>100)\n",
    "features_map2=features_map2[:,nonzeroMAP2]\n",
    "features_gfap=features_gfap[:,nonzeroGFAP]\n",
    "features_map2_names=map2gfapFeatureNames[nonzeroMAP2]\n",
    "features_gfap_names=map2gfapFeatureNames[nonzeroGFAP]\n"
   ]
  },
  {
   "cell_type": "markdown",
   "id": "1a9b56da",
   "metadata": {},
   "source": [
    "### by cluster"
   ]
  },
  {
   "cell_type": "code",
   "execution_count": 40,
   "id": "caf2a5b0",
   "metadata": {},
   "outputs": [],
   "source": [
    "plotsavepath='/data/xzhang/neuro/results/jointClustering/baseline/res5/cnnvaeexp0_segNucall/imgFeatures/byCluster'"
   ]
  },
  {
   "cell_type": "code",
   "execution_count": 141,
   "id": "70c40e1a",
   "metadata": {},
   "outputs": [],
   "source": [
    "plotIGsavepath_thresh='/data/xzhang/neuro/results/jointClustering/baseline/res5/cnnvaeexp0_segNucall/metadataClf/igPlotsControl/thresh'\n",
    "with open(os.path.join(plotIGsavepath_thresh,'igPlotAll_mean'), 'rb') as output:\n",
    "    igPlotAll_mean=pickle.load(output)\n",
    "with open(os.path.join(plotIGsavepath_thresh,'igPlotAll_std'), 'rb') as output:\n",
    "    igPlotAll_std=pickle.load(output)\n",
    "with open(os.path.join(plotIGsavepath_thresh,'igPlotAll_mean_counts'), 'rb') as output:\n",
    "    igPlotAll_mean_counts=pickle.load(output)\n",
    "with open(os.path.join(plotIGsavepath_thresh,'igPlotAll_std_counts'), 'rb') as output:\n",
    "    igPlotAll_std_counts=pickle.load(output)\n",
    "# igPlotAll_mean=np.concatenate((igPlotAll_mean[:,1:],igPlotAll_mean_counts),axis=0)\n",
    "igNames=np.array(['Path Diag_AD', 'Path Diag_FTLD-TDPC', 'Path Diag_PSP','Path Diag_IPD', 'APOE_34', 'TDP43_1', 'alpha-syn_1'])\n",
    "igNames_counts=np.array(['counts_APOE_34', 'counts_TDP43_1'])"
   ]
  },
  {
   "cell_type": "code",
   "execution_count": 142,
   "id": "c62f37dc",
   "metadata": {},
   "outputs": [],
   "source": [
    "clusterUnique,clusterUnique_size=np.unique(finalPartition_keep_input,return_counts=True)"
   ]
  },
  {
   "cell_type": "code",
   "execution_count": 135,
   "id": "5d499abd",
   "metadata": {},
   "outputs": [],
   "source": [
    "cluster2plot_sizeFilter=np.array([ 0.,  1.,  2.,  3.,  4.,  7., 11., 13., 14., 17., 18., 19., 20.,\n",
    "       21., 28., 32., 34., 36., 39., 53., 62., 66., 74., 82., 84., 85.,\n",
    "       94., 97., 99.])"
   ]
  },
  {
   "cell_type": "code",
   "execution_count": 601,
   "id": "a3c9a6ab",
   "metadata": {},
   "outputs": [],
   "source": [
    "def compareClusters_mean(featureMtx,featureNames,igPlotAll_mean,igNames,clusterUnique,plotsavepath,k=8):\n",
    "    for catIdx in range(igNames.size):\n",
    "        cat=igNames[catIdx]\n",
    "        print(cat)\n",
    "        plotsavepath_cat=os.path.join(plotsavepath,cat)\n",
    "        if not os.path.exists(plotsavepath_cat):\n",
    "            os.mkdir(plotsavepath_cat)\n",
    "        topk=clusterUnique[np.argsort(np.abs(igPlotAll_mean[catIdx]))[-k:]]\n",
    "    \n",
    "        print(topk)\n",
    "        pltMtx=np.zeros((k,featureMtx.shape[1]))\n",
    "        \n",
    "        topkIdx=np.repeat(False,finalPartition_keep_input.size)\n",
    "        for cidx in range(k):\n",
    "            c=topk[cidx]\n",
    "            topkIdx[finalPartition_keep_input==c]=True\n",
    "            pltMtx[cidx]=np.mean(featureMtx[finalPartition_keep_input==c],axis=0)\n",
    "        topk_features=featureMtx[topkIdx]\n",
    "        \n",
    "        sigIdx=np.array([])\n",
    "        stats={}\n",
    "        pvals=np.array([])\n",
    "        pval_startIdx=[]\n",
    "        currIdx=0\n",
    "        for l in topk:\n",
    "            stats[l]=pd.DataFrame({'avg':np.mean(featureMtx[finalPartition_keep_input==l],axis=0),\n",
    "                               'std':np.std(featureMtx[finalPartition_keep_input==l],axis=0),\n",
    "                               'fc':(np.mean(featureMtx[finalPartition_keep_input==l],axis=0)/np.mean(featureMtx[finalPartition_keep_input!=l],axis=0))},\n",
    "                              index=featureNames)\n",
    "            pvalues=scipy.stats.mannwhitneyu(featureMtx[finalPartition_keep_input==l],featureMtx[finalPartition_keep_input!=l])[1]\n",
    "            stats[l]['pval']=pvalues\n",
    "            pvals=np.concatenate((pvals,pvalues))\n",
    "            pval_startIdx.append(currIdx)\n",
    "            currIdx+=pvalues.size\n",
    "\n",
    "        pval_corr=multitest.fdrcorrection(pvals,0.05,'indep')[1]\n",
    "\n",
    "        for lidx in range(k):\n",
    "            l=topk[lidx]\n",
    "            stats[l]['pval_corr']=pval_corr[pval_startIdx[lidx]:(pval_startIdx[lidx]+stats[l]['pval'].size)]\n",
    "            stats[l].to_csv(os.path.join(plotsavepath_cat,str(k)+'clusters_stats05_'+str(l)+'.csv'))\n",
    "            sigIdx=np.concatenate((sigIdx,np.arange(stats[l].shape[0])[np.logical_and(np.abs(stats[l]['avg'])>1,np.logical_and(stats[l]['pval_corr']<0.001,np.logical_or(stats[l]['fc']<0.5,stats[l]['fc']>2)))]))\n",
    "\n",
    "        sigIdx=np.unique(sigIdx).astype(int)\n",
    "        print(sigIdx.size)\n",
    "        if sigIdx.size==0:\n",
    "            continue\n",
    "        \n",
    "        df = pd.DataFrame(featureMtx[:,sigIdx],columns=featureNames[sigIdx])\n",
    "        corr = df.corr()\n",
    "        # keep only upper triangle elements (excluding diagonal elements)\n",
    "        mask_keep = np.triu(np.ones(corr.shape), k=1).astype('bool').reshape(corr.size)\n",
    "        # melt (unpivot) the dataframe and apply mask\n",
    "        sr = corr.stack()[mask_keep]\n",
    "        # filter and get names\n",
    "        edges = sr[sr > 0.8].reset_index().values[:, :2]\n",
    "        g = nx.from_edgelist(edges)\n",
    "        ls_cc = []\n",
    "        for cc in nx.connected_components(g):\n",
    "            print(list(cc))\n",
    "            ls_cc.extend(list(cc))\n",
    "        for n in featureNames[sigIdx]:\n",
    "            if n not in ls_cc:\n",
    "                ls_cc.append(n)\n",
    "                \n",
    "        df_plot=pd.DataFrame(pltMtx[:,sigIdx],columns=featureNames[sigIdx])\n",
    "        df_plot=df_plot[ls_cc]\n",
    "\n",
    "        fig, ax = plt.subplots(figsize=(15/100*(df_plot.shape[1]+6.5), 6))\n",
    "        im = ax.imshow(df_plot.to_numpy(),cmap='seismic',vmin=-np.max(np.abs(pltMtx[:,sigIdx])),vmax=np.max(np.abs(pltMtx[:,sigIdx])))\n",
    "        ax.set_xticks(np.arange(sigIdx.size))\n",
    "        ax.set_xticklabels(ls_cc)\n",
    "        ax.set_yticks(np.arange(k))\n",
    "        ax.set_yticklabels(topk.astype(str))\n",
    "        plt.setp(ax.get_xticklabels(), rotation=90, ha=\"right\",rotation_mode=\"anchor\")\n",
    "        #     fig.set_figheight(35)\n",
    "        #     fig.set_figwidth(35)\n",
    "        fig.colorbar(im,shrink=0.5)\n",
    "        fig.tight_layout()\n",
    "        plt.savefig(os.path.join(plotsavepath_cat,str(k)+'clusters_pval001_fc2_avg05_ordered_topkonly.jpg'))\n",
    "        plt.close()"
   ]
  },
  {
   "cell_type": "code",
   "execution_count": 578,
   "id": "43e5c47c",
   "metadata": {},
   "outputs": [
    {
     "data": {
      "text/plain": [
       "(97530, 194)"
      ]
     },
     "execution_count": 578,
     "metadata": {},
     "output_type": "execute_result"
    }
   ],
   "source": [
    "nmco_dapi.shape"
   ]
  },
  {
   "cell_type": "code",
   "execution_count": null,
   "id": "b3f07d02",
   "metadata": {},
   "outputs": [],
   "source": [
    "compareClusters_mean(nmco_dapi,nmco_dapi_names,igPlotAll_mean,igNames,clusterUnique.astype(int),os.path.join(plotsavepath,'dapi'))\n",
    "compareClusters_mean(nmco_dapi,nmco_dapi_names,igPlotAll_mean_counts,igNames_counts,clusterUnique.astype(int)[1:],os.path.join(plotsavepath,'dapi'))\n"
   ]
  },
  {
   "cell_type": "code",
   "execution_count": 171,
   "id": "ff5eb0d6",
   "metadata": {},
   "outputs": [
    {
     "name": "stdout",
     "output_type": "stream",
     "text": [
      "Path Diag_AD\n",
      "[ 0 -1 32 28 74 20  7 11]\n",
      "29\n",
      "Path Diag_FTLD-TDPC\n",
      "[62  0 74 11 94 17 -1  3]\n",
      "54\n",
      "Path Diag_PSP\n",
      "[21 -1 28 14  7 94 19 62]\n",
      "48\n",
      "Path Diag_IPD\n",
      "[ 4 28 -1  2  7 21 14 17]\n",
      "37\n",
      "APOE_34\n",
      "[21  0 94 74  3 32  7 11]\n",
      "50\n",
      "TDP43_1\n",
      "[53  0 39 11 -1  3 74  1]\n",
      "19\n",
      "alpha-syn_1\n",
      "[18 -1 13 34  0  1 28 11]\n",
      "20\n",
      "counts_APOE_34\n",
      "[ 82  85  39  62  99 101  11  97]\n",
      "36\n",
      "counts_TDP43_1\n",
      "[ 11  66  36  97  62  84 100  39]\n",
      "33\n"
     ]
    }
   ],
   "source": [
    "compareClusters_mean(nmco_lmnb,nmco_lmnb_names,igPlotAll_mean,igNames,clusterUnique.astype(int),os.path.join(plotsavepath,'lmnb'))\n",
    "compareClusters_mean(nmco_lmnb,nmco_lmnb_names,igPlotAll_mean_counts,igNames_counts,clusterUnique.astype(int)[1:],os.path.join(plotsavepath,'lmnb'))"
   ]
  },
  {
   "cell_type": "code",
   "execution_count": 592,
   "id": "4aa52679",
   "metadata": {},
   "outputs": [
    {
     "data": {
      "text/plain": [
       "(97530, 39)"
      ]
     },
     "execution_count": 592,
     "metadata": {},
     "output_type": "execute_result"
    }
   ],
   "source": [
    "features_map2.shape"
   ]
  },
  {
   "cell_type": "code",
   "execution_count": 602,
   "id": "4285fbe1",
   "metadata": {},
   "outputs": [
    {
     "name": "stdout",
     "output_type": "stream",
     "text": [
      "Path Diag_FTLD-TDPC\n",
      "[62  0 74 11 94 17 -1  3]\n",
      "2\n",
      "['perimeter_sum', 'area_sum']\n"
     ]
    }
   ],
   "source": [
    "compareClusters_mean(features_map2,features_map2_names,igPlotAll_mean[[1]],igNames[[1]],clusterUnique.astype(int),os.path.join(plotsavepath,'map2'))\n",
    "compareClusters_mean(features_map2,features_map2_names,igPlotAll_mean_counts,igNames_counts,clusterUnique.astype(int)[1:],os.path.join(plotsavepath,'map2'))"
   ]
  },
  {
   "cell_type": "code",
   "execution_count": 173,
   "id": "11166241",
   "metadata": {},
   "outputs": [
    {
     "name": "stdout",
     "output_type": "stream",
     "text": [
      "Path Diag_AD\n",
      "[ 0 -1 32 28 74 20  7 11]\n",
      "8\n",
      "Path Diag_FTLD-TDPC\n",
      "[62  0 74 11 94 17 -1  3]\n",
      "9\n",
      "Path Diag_PSP\n",
      "[21 -1 28 14  7 94 19 62]\n",
      "7\n",
      "Path Diag_IPD\n",
      "[ 4 28 -1  2  7 21 14 17]\n",
      "0\n",
      "APOE_34\n",
      "[21  0 94 74  3 32  7 11]\n",
      "9\n",
      "TDP43_1\n",
      "[53  0 39 11 -1  3 74  1]\n",
      "8\n",
      "alpha-syn_1\n",
      "[18 -1 13 34  0  1 28 11]\n",
      "0\n",
      "counts_APOE_34\n",
      "[ 82  85  39  62  99 101  11  97]\n",
      "1\n",
      "counts_TDP43_1\n",
      "[ 11  66  36  97  62  84 100  39]\n"
     ]
    },
    {
     "name": "stderr",
     "output_type": "stream",
     "text": [
      "/tmp/ipykernel_1048967/3128172600.py:78: UserWarning: Tight layout not applied. The left and right margins cannot be made large enough to accommodate all axes decorations.\n",
      "  fig.tight_layout()\n"
     ]
    },
    {
     "name": "stdout",
     "output_type": "stream",
     "text": [
      "1\n"
     ]
    },
    {
     "name": "stderr",
     "output_type": "stream",
     "text": [
      "/tmp/ipykernel_1048967/3128172600.py:78: UserWarning: Tight layout not applied. The left and right margins cannot be made large enough to accommodate all axes decorations.\n",
      "  fig.tight_layout()\n"
     ]
    }
   ],
   "source": [
    "compareClusters_mean(features_gfap,features_gfap_names,igPlotAll_mean,igNames,clusterUnique.astype(int),os.path.join(plotsavepath,'gfap'))\n",
    "compareClusters_mean(features_gfap,features_gfap_names,igPlotAll_mean_counts,igNames_counts,clusterUnique.astype(int)[1:],os.path.join(plotsavepath,'gfap'))"
   ]
  },
  {
   "cell_type": "code",
   "execution_count": 225,
   "id": "f3b42b6a",
   "metadata": {},
   "outputs": [],
   "source": [
    "def getclusterprop(meta,metaCat1,cellIdx,clusterAll):\n",
    "    allImgNames_a=allImgNames[meta==metaCat1]\n",
    "    sUnique,sidx_start=np.unique(allImgNames_a,return_index=True)\n",
    "    \n",
    "    #get cluster composition\n",
    "    clusterUnique=np.unique(clusterAll[cellIdx])\n",
    "    inputCluster=np.zeros((sUnique.size,clusterUnique.size))\n",
    "    for i in range(sUnique.size):\n",
    "        clusterRes_i=clusterAll[allImgNames==sUnique[i]]\n",
    "        for j in range(clusterUnique.size):\n",
    "            inputCluster[i,j]=np.sum(clusterRes_i==clusterUnique[j])\n",
    "    inputAll_all=inputCluster/np.sum(inputCluster,axis=1,keepdims=True)\n",
    "    return np.mean(inputAll_all,axis=0)"
   ]
  },
  {
   "cell_type": "code",
   "execution_count": 308,
   "id": "3d72ad3d",
   "metadata": {},
   "outputs": [],
   "source": [
    "def compareClusters_mean_feature2prop(featureAll,featureName,meta,metaCat1,metaCat2,clusterAll,plotsavepath):\n",
    "#     plotsavepath_cat=os.path.join(plotsavepath,featureName+'_'+metaCat1+'_'+metaCat2)\n",
    "#     if not os.path.exists(plotsavepath_cat):\n",
    "#         os.mkdir(plotsavepath_cat)\n",
    "    cellIdx=np.logical_or(meta==metaCat1,meta==metaCat2) \n",
    "    clusterUnique_all=np.unique(clusterAll[cellIdx])\n",
    "    \n",
    "    clusterFC=getclusterprop(meta,metaCat1,cellIdx,clusterAll)/getclusterprop(meta,metaCat2,cellIdx,clusterAll)\n",
    "\n",
    "    featureMean=np.zeros(clusterUnique_all.size)\n",
    "\n",
    "    for cidx in range(clusterUnique_all.size):\n",
    "        featureMean[cidx]=np.mean(featureAll[cellIdx][clusterAll[cellIdx]==clusterUnique_all[cidx]])\n",
    "    plt.scatter(clusterFC,featureMean)\n",
    "    plt.show()\n",
    "    print(scipy.stats.pearsonr(clusterFC[np.isfinite(clusterFC)],featureMean[np.isfinite(clusterFC)]))\n",
    "#     plt.savefig(os.path.join(plotsavepath_cat,str(k)+'clusters_pval001_fc2_avg05_ordered_topkonly.jpg'))\n",
    "#     plt.close()"
   ]
  },
  {
   "cell_type": "code",
   "execution_count": 536,
   "id": "1f99eac0",
   "metadata": {
    "scrolled": true
   },
   "outputs": [
    {
     "name": "stdout",
     "output_type": "stream",
     "text": [
      "AD\n",
      "-1 1.1395966101429223e-45 -0.2992486299946383\n",
      "3 2.2300849359199697e-08 -0.5066309125786076\n",
      "4 6.823317679554887e-14 0.2794056201254292\n",
      "6 0.0007201662678490187 -0.2539369049611519\n",
      "7 3.442744600445432e-07 0.2565429791192394\n",
      "8 2.7744011562671414e-07 0.2198228405621279\n",
      "10 3.31761416940871e-05 0.12826283995964805\n",
      "13 2.7906241079086622e-08 -0.37349148854899744\n",
      "15 0.000361070107985116 -0.2542955195909196\n",
      "18 0.00017024437086669828 -0.25355265452243325\n",
      "20 0.000172929649083571 -0.2846734433252783\n",
      "22 0.0004876283305236843 0.21309046686120275\n",
      "23 1.8622797522676581e-06 0.26078909790012145\n",
      "30 8.580536080867802e-05 0.1959477879149325\n",
      "34 0.00016701815438666318 0.16399482336216564\n",
      "35 5.253112398336668e-09 -0.4812583083667019\n",
      "38 5.895698855995627e-07 -0.4238006666531105\n",
      "70 1.3475725923018002e-05 0.40650945757848156\n",
      "94 7.88935622570946e-05 0.3702549118743223\n"
     ]
    },
    {
     "name": "stderr",
     "output_type": "stream",
     "text": [
      "/home/xzhang/anaconda3/envs/c2p/lib/python3.10/site-packages/numpy/core/fromnumeric.py:3504: RuntimeWarning: Mean of empty slice.\n",
      "  return _methods._mean(a, axis=axis, dtype=dtype,\n",
      "/home/xzhang/anaconda3/envs/c2p/lib/python3.10/site-packages/numpy/core/_methods.py:129: RuntimeWarning: invalid value encountered in scalar divide\n",
      "  ret = ret.dtype.type(ret / rcount)\n",
      "/home/xzhang/anaconda3/envs/c2p/lib/python3.10/site-packages/scipy/_lib/deprecation.py:234: SmallSampleWarning: One or more sample arguments is too small; all returned values will be NaN. See documentation for sample size requirements.\n",
      "  return f(*args, **kwargs)\n",
      "/home/xzhang/anaconda3/envs/c2p/lib/python3.10/site-packages/numpy/core/fromnumeric.py:3504: RuntimeWarning: Mean of empty slice.\n",
      "  return _methods._mean(a, axis=axis, dtype=dtype,\n",
      "/home/xzhang/anaconda3/envs/c2p/lib/python3.10/site-packages/numpy/core/_methods.py:129: RuntimeWarning: invalid value encountered in scalar divide\n",
      "  ret = ret.dtype.type(ret / rcount)\n",
      "/home/xzhang/anaconda3/envs/c2p/lib/python3.10/site-packages/numpy/core/fromnumeric.py:3504: RuntimeWarning: Mean of empty slice.\n",
      "  return _methods._mean(a, axis=axis, dtype=dtype,\n",
      "/home/xzhang/anaconda3/envs/c2p/lib/python3.10/site-packages/numpy/core/_methods.py:129: RuntimeWarning: invalid value encountered in scalar divide\n",
      "  ret = ret.dtype.type(ret / rcount)\n",
      "/home/xzhang/anaconda3/envs/c2p/lib/python3.10/site-packages/scipy/_lib/deprecation.py:234: SmallSampleWarning: One or more sample arguments is too small; all returned values will be NaN. See documentation for sample size requirements.\n",
      "  return f(*args, **kwargs)\n"
     ]
    },
    {
     "name": "stdout",
     "output_type": "stream",
     "text": [
      "10\n",
      "9\n",
      "FTLD-TDPC\n",
      "-1 3.260224777326478e-66 -0.3472562175707001\n",
      "1 0.0007025591712195424 -0.12115136678416388\n",
      "3 5.534875985333246e-11 -0.5721055410707102\n",
      "4 0.00027425424695113855 0.1236715395838998\n",
      "13 1.0658077049953633e-05 -0.27717469084338986\n",
      "19 0.00014043405886334044 -0.30220442112993906\n",
      "35 8.623873561354174e-06 -0.39811908675862373\n"
     ]
    },
    {
     "name": "stderr",
     "output_type": "stream",
     "text": [
      "/home/xzhang/anaconda3/envs/c2p/lib/python3.10/site-packages/numpy/core/fromnumeric.py:3504: RuntimeWarning: Mean of empty slice.\n",
      "  return _methods._mean(a, axis=axis, dtype=dtype,\n",
      "/home/xzhang/anaconda3/envs/c2p/lib/python3.10/site-packages/numpy/core/_methods.py:129: RuntimeWarning: invalid value encountered in scalar divide\n",
      "  ret = ret.dtype.type(ret / rcount)\n",
      "/home/xzhang/anaconda3/envs/c2p/lib/python3.10/site-packages/scipy/_lib/deprecation.py:234: SmallSampleWarning: One or more sample arguments is too small; all returned values will be NaN. See documentation for sample size requirements.\n",
      "  return f(*args, **kwargs)\n",
      "/home/xzhang/anaconda3/envs/c2p/lib/python3.10/site-packages/numpy/core/fromnumeric.py:3504: RuntimeWarning: Mean of empty slice.\n",
      "  return _methods._mean(a, axis=axis, dtype=dtype,\n",
      "/home/xzhang/anaconda3/envs/c2p/lib/python3.10/site-packages/numpy/core/_methods.py:129: RuntimeWarning: invalid value encountered in scalar divide\n",
      "  ret = ret.dtype.type(ret / rcount)\n",
      "/home/xzhang/anaconda3/envs/c2p/lib/python3.10/site-packages/scipy/_lib/deprecation.py:234: SmallSampleWarning: One or more sample arguments is too small; all returned values will be NaN. See documentation for sample size requirements.\n",
      "  return f(*args, **kwargs)\n"
     ]
    },
    {
     "name": "stdout",
     "output_type": "stream",
     "text": [
      "1\n",
      "6\n",
      "IPD\n",
      "-1 4.740323925159564e-35 -0.2773112525750884\n",
      "0 3.075902311122965e-07 0.16704258092151525\n",
      "4 1.8364364079371793e-11 0.23782007075882283\n",
      "15 4.97687377695607e-05 -0.3360117225588999\n",
      "20 8.673969757314847e-09 -0.5226915206157252\n",
      "35 0.00019863666771209582 -0.3957375976929355\n",
      "56 1.7605119248307928e-14 -1.1182496570054192\n"
     ]
    },
    {
     "name": "stderr",
     "output_type": "stream",
     "text": [
      "/home/xzhang/anaconda3/envs/c2p/lib/python3.10/site-packages/numpy/core/fromnumeric.py:3504: RuntimeWarning: Mean of empty slice.\n",
      "  return _methods._mean(a, axis=axis, dtype=dtype,\n",
      "/home/xzhang/anaconda3/envs/c2p/lib/python3.10/site-packages/numpy/core/_methods.py:129: RuntimeWarning: invalid value encountered in scalar divide\n",
      "  ret = ret.dtype.type(ret / rcount)\n",
      "/home/xzhang/anaconda3/envs/c2p/lib/python3.10/site-packages/scipy/_lib/deprecation.py:234: SmallSampleWarning: One or more sample arguments is too small; all returned values will be NaN. See documentation for sample size requirements.\n",
      "  return f(*args, **kwargs)\n",
      "/home/xzhang/anaconda3/envs/c2p/lib/python3.10/site-packages/numpy/core/fromnumeric.py:3504: RuntimeWarning: Mean of empty slice.\n",
      "  return _methods._mean(a, axis=axis, dtype=dtype,\n",
      "/home/xzhang/anaconda3/envs/c2p/lib/python3.10/site-packages/numpy/core/_methods.py:129: RuntimeWarning: invalid value encountered in scalar divide\n",
      "  ret = ret.dtype.type(ret / rcount)\n",
      "/home/xzhang/anaconda3/envs/c2p/lib/python3.10/site-packages/scipy/_lib/deprecation.py:234: SmallSampleWarning: One or more sample arguments is too small; all returned values will be NaN. See documentation for sample size requirements.\n",
      "  return f(*args, **kwargs)\n"
     ]
    },
    {
     "name": "stdout",
     "output_type": "stream",
     "text": [
      "2\n",
      "5\n",
      "PSP\n",
      "-1 2.0282600262142585e-28 -0.23111593254833368\n",
      "1 0.00045901023519059593 -0.12323993781029513\n",
      "4 3.2267628943070817e-07 0.1936132797528693\n",
      "22 0.00013621962181647367 0.23688676647700777\n",
      "35 0.00017333009728622624 -0.3264636486588438\n",
      "94 0.0006511337783135373 0.4035339231476072\n",
      "3\n",
      "3\n"
     ]
    },
    {
     "name": "stderr",
     "output_type": "stream",
     "text": [
      "/home/xzhang/anaconda3/envs/c2p/lib/python3.10/site-packages/numpy/core/fromnumeric.py:3504: RuntimeWarning: Mean of empty slice.\n",
      "  return _methods._mean(a, axis=axis, dtype=dtype,\n",
      "/home/xzhang/anaconda3/envs/c2p/lib/python3.10/site-packages/numpy/core/_methods.py:129: RuntimeWarning: invalid value encountered in scalar divide\n",
      "  ret = ret.dtype.type(ret / rcount)\n",
      "/home/xzhang/anaconda3/envs/c2p/lib/python3.10/site-packages/scipy/_lib/deprecation.py:234: SmallSampleWarning: One or more sample arguments is too small; all returned values will be NaN. See documentation for sample size requirements.\n",
      "  return f(*args, **kwargs)\n",
      "/home/xzhang/anaconda3/envs/c2p/lib/python3.10/site-packages/numpy/core/fromnumeric.py:3504: RuntimeWarning: Mean of empty slice.\n",
      "  return _methods._mean(a, axis=axis, dtype=dtype,\n",
      "/home/xzhang/anaconda3/envs/c2p/lib/python3.10/site-packages/numpy/core/_methods.py:129: RuntimeWarning: invalid value encountered in scalar divide\n",
      "  ret = ret.dtype.type(ret / rcount)\n",
      "/home/xzhang/anaconda3/envs/c2p/lib/python3.10/site-packages/scipy/_lib/deprecation.py:234: SmallSampleWarning: One or more sample arguments is too small; all returned values will be NaN. See documentation for sample size requirements.\n",
      "  return f(*args, **kwargs)\n"
     ]
    }
   ],
   "source": [
    "hcCluster_all={}\n",
    "hcCluster_all_dff={}\n",
    "for p in np.unique(meta['Path Diag']):\n",
    "    if p=='Control':\n",
    "        continue\n",
    "    print(p)\n",
    "    incCounts=0\n",
    "    decCounts=0\n",
    "    hcClusters=[]\n",
    "    hcClusters_diff=[]\n",
    "    for c in clusterUnique:\n",
    "        diff=np.mean(nmco_dapi[np.logical_and(meta.loc[allPatientIDs]['Path Diag']==p,finalPartition_keep_input==c),nmco_dapi_names=='hc_area_ec_area'])-np.mean(nmco_dapi[np.logical_and(meta.loc[allPatientIDs]['Path Diag']=='Control',finalPartition_keep_input==c),nmco_dapi_names=='hc_area_ec_area'])\n",
    "        pval=scipy.stats.ttest_ind(nmco_dapi[np.logical_and(meta.loc[allPatientIDs]['Path Diag']==p,finalPartition_keep_input==c),nmco_dapi_names=='hc_area_ec_area'],nmco_dapi[np.logical_and(meta.loc[allPatientIDs]['Path Diag']=='Control',finalPartition_keep_input==c),nmco_dapi_names=='hc_area_ec_area'],alternative='two-sided')[1]\n",
    "        if pval<0.05/69:\n",
    "            print(c,pval,diff)\n",
    "            hcClusters.append(c)\n",
    "            hcClusters_diff.append(diff)\n",
    "            if diff>0:\n",
    "                incCounts+=1\n",
    "            else:\n",
    "                decCounts+=1\n",
    "    print(incCounts)\n",
    "    print(decCounts)\n",
    "    hcCluster_all[p]=hcClusters\n",
    "    hcCluster_all_dff[p]=hcClusters_diff"
   ]
  },
  {
   "cell_type": "code",
   "execution_count": null,
   "id": "f72c451d",
   "metadata": {
    "scrolled": true
   },
   "outputs": [],
   "source": [
    "for p in np.unique(meta['Path Diag']):\n",
    "    if p=='Control':\n",
    "        continue\n",
    "    print(p)\n",
    "    for c in hcCluster_all[p]:\n",
    "        cidx=np.logical_and(meta.loc[allPatientIDs]['Path Diag']==p,finalPartition_keep_input==c)\n",
    "        x=meta.loc[allPatientIDs]['AAD'].to_numpy()[cidx]\n",
    "        y=nmco_dapi[cidx,nmco_dapi_names=='hc_content_ec_content']\n",
    "        fig, ax = plt.subplots(figsize=(2.5, 2.5))\n",
    "        sns.regplot(x=x[x!='na'].astype(float), y=y[x!='na'].astype(float), scatter_kws={\"s\": 6}, line_kws={\"color\": \"red\"},robust=True)\n",
    "        ax.set_xticks(np.linspace(np.min(x[x != 'na'].astype(float)), np.max(x[x != 'na'].astype(float)), np.unique(x[x!='na']).size))\n",
    "        plt.tight_layout()\n",
    "        plt.savefig(os.path.join(plotsavepath,'dapi','hc_content_ec_content',str(c)+'_AADregrs.pdf'))\n",
    "        plt.show()\n",
    "        print(c,scipy.stats.pearsonr(x=x[x!='na'].astype(float), y=y[x!='na'].astype(float)))"
   ]
  },
  {
   "cell_type": "code",
   "execution_count": 566,
   "id": "bb4bdcfd",
   "metadata": {
    "scrolled": true
   },
   "outputs": [
    {
     "name": "stdout",
     "output_type": "stream",
     "text": [
      "AD\n",
      "-1 9.558412695014293e-24 0.14588328255199096\n",
      "1 1.0011951173080056e-10 0.1862604493249279\n",
      "4 6.510089493727467e-24 0.5892896409967197\n",
      "5 0.00010949791126165371 0.19159620599460794\n",
      "7 2.2547036009050053e-06 0.2314555416839702\n",
      "8 9.896965401051892e-17 0.49470529482689796\n",
      "10 4.5245859688542713e-23 0.7359545995740178\n",
      "13 0.00022003253621806246 0.09325897179880749\n",
      "21 2.8034930813765604e-10 0.635258642990387\n",
      "22 6.045924217666174e-06 0.22219444210058498\n",
      "23 2.171225135790385e-06 0.2583169472639373\n",
      "30 1.0025354037959907e-10 0.48101476159976786\n",
      "34 1.3531966225568286e-05 0.25266831500989995\n",
      "35 8.950076417856489e-05 0.18492831294113904\n",
      "36 0.00017901284516594337 0.24557927593926654\n",
      "40 7.959376408790251e-07 0.363745945248046\n",
      "46 4.1724937576686356e-08 0.7823786018569441\n",
      "49 0.00010187813823103417 0.2958079654025935\n",
      "74 0.0006588735406032854 0.2688661876800892\n"
     ]
    },
    {
     "name": "stderr",
     "output_type": "stream",
     "text": [
      "/home/xzhang/anaconda3/envs/c2p/lib/python3.10/site-packages/numpy/core/fromnumeric.py:3504: RuntimeWarning: Mean of empty slice.\n",
      "  return _methods._mean(a, axis=axis, dtype=dtype,\n",
      "/home/xzhang/anaconda3/envs/c2p/lib/python3.10/site-packages/numpy/core/_methods.py:129: RuntimeWarning: invalid value encountered in scalar divide\n",
      "  ret = ret.dtype.type(ret / rcount)\n",
      "/home/xzhang/anaconda3/envs/c2p/lib/python3.10/site-packages/scipy/_lib/deprecation.py:234: SmallSampleWarning: One or more sample arguments is too small; all returned values will be NaN. See documentation for sample size requirements.\n",
      "  return f(*args, **kwargs)\n",
      "/home/xzhang/anaconda3/envs/c2p/lib/python3.10/site-packages/numpy/core/fromnumeric.py:3504: RuntimeWarning: Mean of empty slice.\n",
      "  return _methods._mean(a, axis=axis, dtype=dtype,\n",
      "/home/xzhang/anaconda3/envs/c2p/lib/python3.10/site-packages/numpy/core/_methods.py:129: RuntimeWarning: invalid value encountered in scalar divide\n",
      "  ret = ret.dtype.type(ret / rcount)\n",
      "/home/xzhang/anaconda3/envs/c2p/lib/python3.10/site-packages/numpy/core/fromnumeric.py:3504: RuntimeWarning: Mean of empty slice.\n",
      "  return _methods._mean(a, axis=axis, dtype=dtype,\n",
      "/home/xzhang/anaconda3/envs/c2p/lib/python3.10/site-packages/numpy/core/_methods.py:129: RuntimeWarning: invalid value encountered in scalar divide\n",
      "  ret = ret.dtype.type(ret / rcount)\n",
      "/home/xzhang/anaconda3/envs/c2p/lib/python3.10/site-packages/scipy/_lib/deprecation.py:234: SmallSampleWarning: One or more sample arguments is too small; all returned values will be NaN. See documentation for sample size requirements.\n",
      "  return f(*args, **kwargs)\n"
     ]
    },
    {
     "name": "stdout",
     "output_type": "stream",
     "text": [
      "19\n",
      "0\n",
      "FTLD-TDPC\n",
      "-1 4.266029377844865e-65 0.2637866155483164\n",
      "4 6.309689966394727e-14 0.5094358317546888\n",
      "8 0.00037792491864860713 0.2103154766538704\n",
      "10 6.975022736332593e-07 0.4164049311407165\n",
      "11 5.903723665448064e-06 0.21074555526223404\n",
      "12 0.0005906728504632031 0.19678497859208444\n",
      "13 0.0004692038573724553 0.09442833963548669\n",
      "18 0.00037475074161823755 0.17976610060738146\n",
      "19 6.329392098458954e-05 0.20991980948358102\n",
      "22 2.2766968012056857e-05 0.22388774772139725\n",
      "23 1.5440551619245865e-07 0.3255350626993492\n",
      "30 2.601023303368854e-05 0.36189615606543735\n",
      "32 2.3335104087808813e-05 0.2879243106922122\n",
      "35 3.4085535382838133e-06 0.25283866903923385\n",
      "46 6.109673844264022e-05 0.6226321186196364\n",
      "49 0.0002183449692175109 0.2849657762822457\n",
      "66 1.1895349139918955e-05 0.33497627131042046\n"
     ]
    },
    {
     "name": "stderr",
     "output_type": "stream",
     "text": [
      "/home/xzhang/anaconda3/envs/c2p/lib/python3.10/site-packages/numpy/core/fromnumeric.py:3504: RuntimeWarning: Mean of empty slice.\n",
      "  return _methods._mean(a, axis=axis, dtype=dtype,\n",
      "/home/xzhang/anaconda3/envs/c2p/lib/python3.10/site-packages/numpy/core/_methods.py:129: RuntimeWarning: invalid value encountered in scalar divide\n",
      "  ret = ret.dtype.type(ret / rcount)\n",
      "/home/xzhang/anaconda3/envs/c2p/lib/python3.10/site-packages/scipy/_lib/deprecation.py:234: SmallSampleWarning: One or more sample arguments is too small; all returned values will be NaN. See documentation for sample size requirements.\n",
      "  return f(*args, **kwargs)\n",
      "/home/xzhang/anaconda3/envs/c2p/lib/python3.10/site-packages/numpy/core/fromnumeric.py:3504: RuntimeWarning: Mean of empty slice.\n",
      "  return _methods._mean(a, axis=axis, dtype=dtype,\n",
      "/home/xzhang/anaconda3/envs/c2p/lib/python3.10/site-packages/numpy/core/_methods.py:129: RuntimeWarning: invalid value encountered in scalar divide\n",
      "  ret = ret.dtype.type(ret / rcount)\n",
      "/home/xzhang/anaconda3/envs/c2p/lib/python3.10/site-packages/scipy/_lib/deprecation.py:234: SmallSampleWarning: One or more sample arguments is too small; all returned values will be NaN. See documentation for sample size requirements.\n",
      "  return f(*args, **kwargs)\n"
     ]
    },
    {
     "name": "stdout",
     "output_type": "stream",
     "text": [
      "17\n",
      "0\n",
      "IPD\n",
      "-1 3.1357093575039512e-68 0.2889608457869088\n",
      "4 1.1759302022683142e-24 0.7111253517707228\n",
      "5 7.00321317176031e-09 0.3071547504019351\n",
      "7 1.1524932078299139e-12 0.44174178599991465\n",
      "8 5.029027351050566e-10 0.4020886501614682\n",
      "10 6.619997819999194e-09 0.5064622598116637\n",
      "11 1.750410093624632e-09 0.31164667123722156\n",
      "12 1.2113252557270275e-08 0.3184798993769645\n",
      "18 5.69638292076119e-06 0.23387063032976785\n",
      "19 7.096384688347343e-05 0.20101781467425295\n",
      "21 1.5973853400395604e-18 0.9374259429130247\n",
      "22 3.1737391122823815e-07 0.28335023595181713\n",
      "23 1.1656794687310621e-08 0.37359564726283756\n",
      "24 2.1035743808302766e-05 0.27842409361262355\n",
      "25 1.1488351807973892e-06 0.2938056581998344\n",
      "30 5.6055886257276086e-08 0.49887602643304085\n",
      "32 2.604310570454227e-13 0.5205986835341443\n",
      "34 4.667461359832544e-09 0.39426838879583115\n",
      "35 1.713048153934611e-07 0.3002999690824729\n",
      "36 8.448006422791976e-07 0.36856789438224846\n",
      "40 7.944204620271199e-06 0.3199104204189687\n",
      "46 7.999540064490154e-11 0.9424370849580195\n",
      "49 8.921935254666486e-05 0.2952233588187561\n",
      "53 0.00011503216050770757 0.26967421611417736\n",
      "56 6.145540198909891e-05 0.30698883158159745\n",
      "66 0.0005269735173989698 0.315561835252307\n",
      "86 0.0002507478740512929 0.43041772398881395\n"
     ]
    },
    {
     "name": "stderr",
     "output_type": "stream",
     "text": [
      "/home/xzhang/anaconda3/envs/c2p/lib/python3.10/site-packages/numpy/core/fromnumeric.py:3504: RuntimeWarning: Mean of empty slice.\n",
      "  return _methods._mean(a, axis=axis, dtype=dtype,\n",
      "/home/xzhang/anaconda3/envs/c2p/lib/python3.10/site-packages/numpy/core/_methods.py:129: RuntimeWarning: invalid value encountered in scalar divide\n",
      "  ret = ret.dtype.type(ret / rcount)\n",
      "/home/xzhang/anaconda3/envs/c2p/lib/python3.10/site-packages/scipy/_lib/deprecation.py:234: SmallSampleWarning: One or more sample arguments is too small; all returned values will be NaN. See documentation for sample size requirements.\n",
      "  return f(*args, **kwargs)\n",
      "/home/xzhang/anaconda3/envs/c2p/lib/python3.10/site-packages/numpy/core/fromnumeric.py:3504: RuntimeWarning: Mean of empty slice.\n",
      "  return _methods._mean(a, axis=axis, dtype=dtype,\n",
      "/home/xzhang/anaconda3/envs/c2p/lib/python3.10/site-packages/numpy/core/_methods.py:129: RuntimeWarning: invalid value encountered in scalar divide\n",
      "  ret = ret.dtype.type(ret / rcount)\n",
      "/home/xzhang/anaconda3/envs/c2p/lib/python3.10/site-packages/scipy/_lib/deprecation.py:234: SmallSampleWarning: One or more sample arguments is too small; all returned values will be NaN. See documentation for sample size requirements.\n",
      "  return f(*args, **kwargs)\n"
     ]
    },
    {
     "name": "stdout",
     "output_type": "stream",
     "text": [
      "27\n",
      "0\n",
      "PSP\n",
      "-1 1.5497514050103731e-68 0.2987679717288559\n",
      "3 0.0006857219827250644 0.22737466476443016\n",
      "4 1.3202871543738692e-17 0.5553524847848192\n",
      "5 2.4499271078365986e-06 0.24377397821306693\n",
      "7 3.008385954917427e-09 0.3953369273809705\n",
      "8 1.7145577519839656e-07 0.3126579416331918\n",
      "10 1.1448340208643351e-10 0.5578146476202595\n",
      "11 5.2725656424521916e-08 0.30375777913589475\n",
      "12 0.00030851026207299824 0.23834326171718656\n",
      "16 3.734631713827655e-06 0.25553555739834033\n",
      "19 1.2856345969091766e-07 0.3289017910276109\n",
      "21 3.2749160825533262e-09 0.5645446698171543\n",
      "22 1.127519070984544e-11 0.35071231071000736\n",
      "23 9.543636850626581e-09 0.3457202551013604\n",
      "25 7.951854801132504e-07 0.30982591700066375\n",
      "31 6.389468569951005e-05 0.2121348984875795\n",
      "32 4.348466415974989e-05 0.28293951169317594\n",
      "35 1.9562547761368354e-07 0.3194656015437957\n",
      "40 2.6879892483847616e-05 0.3612667034231242\n",
      "46 4.7835137240215465e-08 0.7300629692977709\n",
      "49 1.3281444299515822e-06 0.3919028779971499\n",
      "53 0.00020841021390964143 0.2947139911883584\n",
      "60 3.345761093178206e-05 0.3996233634020658\n",
      "70 0.00014925926352997234 0.35988301926319954\n",
      "71 5.9025722416221955e-05 0.4074765948890716\n",
      "25\n",
      "0\n"
     ]
    },
    {
     "name": "stderr",
     "output_type": "stream",
     "text": [
      "/home/xzhang/anaconda3/envs/c2p/lib/python3.10/site-packages/numpy/core/fromnumeric.py:3504: RuntimeWarning: Mean of empty slice.\n",
      "  return _methods._mean(a, axis=axis, dtype=dtype,\n",
      "/home/xzhang/anaconda3/envs/c2p/lib/python3.10/site-packages/numpy/core/_methods.py:129: RuntimeWarning: invalid value encountered in scalar divide\n",
      "  ret = ret.dtype.type(ret / rcount)\n",
      "/home/xzhang/anaconda3/envs/c2p/lib/python3.10/site-packages/scipy/_lib/deprecation.py:234: SmallSampleWarning: One or more sample arguments is too small; all returned values will be NaN. See documentation for sample size requirements.\n",
      "  return f(*args, **kwargs)\n",
      "/home/xzhang/anaconda3/envs/c2p/lib/python3.10/site-packages/numpy/core/fromnumeric.py:3504: RuntimeWarning: Mean of empty slice.\n",
      "  return _methods._mean(a, axis=axis, dtype=dtype,\n",
      "/home/xzhang/anaconda3/envs/c2p/lib/python3.10/site-packages/numpy/core/_methods.py:129: RuntimeWarning: invalid value encountered in scalar divide\n",
      "  ret = ret.dtype.type(ret / rcount)\n",
      "/home/xzhang/anaconda3/envs/c2p/lib/python3.10/site-packages/scipy/_lib/deprecation.py:234: SmallSampleWarning: One or more sample arguments is too small; all returned values will be NaN. See documentation for sample size requirements.\n",
      "  return f(*args, **kwargs)\n"
     ]
    }
   ],
   "source": [
    "invagClusters_all={}\n",
    "invagClusters_all_diff={}\n",
    "for p in np.unique(meta['Path Diag']):\n",
    "    if p=='Control':\n",
    "        continue\n",
    "    print(p)\n",
    "    incCounts=0\n",
    "    decCounts=0\n",
    "    invagClusters=[]\n",
    "    invagClusters_diff=[]\n",
    "    for c in clusterUnique:\n",
    "        diff=np.mean(nmco_lmnb[np.logical_and(meta.loc[allPatientIDs]['Path Diag']==p,finalPartition_keep_input==c),nmco_lmnb_names=='invagination'])-np.mean(nmco_lmnb[np.logical_and(meta.loc[allPatientIDs]['Path Diag']=='Control',finalPartition_keep_input==c),nmco_lmnb_names=='invagination'])\n",
    "        pval=scipy.stats.ttest_ind(nmco_lmnb[np.logical_and(meta.loc[allPatientIDs]['Path Diag']==p,finalPartition_keep_input==c),nmco_lmnb_names=='invagination'],nmco_lmnb[np.logical_and(meta.loc[allPatientIDs]['Path Diag']=='Control',finalPartition_keep_input==c),nmco_lmnb_names=='invagination'],alternative='two-sided')[1]\n",
    "        if pval<0.05/69:\n",
    "            print(c,pval,diff)\n",
    "            invagClusters.append(c)\n",
    "            invagClusters_diff.append(diff)\n",
    "            if diff>0:\n",
    "                incCounts+=1\n",
    "            else:\n",
    "                decCounts+=1\n",
    "    print(incCounts)\n",
    "    print(decCounts)\n",
    "    invagClusters_all[p]=invagClusters\n",
    "    invagClusters_all_diff[p]=invagClusters_diff"
   ]
  },
  {
   "cell_type": "code",
   "execution_count": 567,
   "id": "5b30f36a",
   "metadata": {},
   "outputs": [
    {
     "data": {
      "text/plain": [
       "[-1, 1, 4, 5, 7, 8, 10, 13, 21, 22, 23, 30, 34, 35, 36, 40, 46, 49, 74]"
      ]
     },
     "execution_count": 567,
     "metadata": {},
     "output_type": "execute_result"
    }
   ],
   "source": [
    "invagClusters_all['AD']"
   ]
  },
  {
   "cell_type": "code",
   "execution_count": 568,
   "id": "c282a605",
   "metadata": {},
   "outputs": [
    {
     "data": {
      "image/png": "[encoded data removed]",
      "text/plain": [
       "<Figure size 300x300 with 1 Axes>"
      ]
     },
     "metadata": {},
     "output_type": "display_data"
    }
   ],
   "source": [
    "from matplotlib_venn import venn2\n",
    "\n",
    "fig, ax = plt.subplots(figsize=(3, 3))\n",
    "venn=venn2([set(np.array(hcCluster_all['AD'])[np.logical_and(np.array(hcCluster_all['AD'])!=-1,np.array(hcCluster_all_dff['AD'])>0)]), set(np.array(invagClusters_all['AD'])[np.logical_and(np.array(invagClusters_all['AD'])!=-1,np.array(invagClusters_all_diff['AD'])>0)])], set_labels=('HC clusters','Invagination clusters'))\n",
    "plt.tight_layout()\n",
    "plt.savefig(os.path.join(plotsavepath,'dapi','invag_hc_venn.pdf'))\n",
    "# venn.subset_labels[0].set_text('\\n'.join(set(np.array(hcClusters).astype(str)) - set(np.array(invagClusters).astype(str))))  # Only HC clusters\n",
    "# venn.subset_labels[1].set_text('\\n'.join(set(np.array(invagClusters).astype(str)) - set(np.array(hcClusters).astype(str))))  # Only Invagination clusters\n",
    "# venn.subset_labels[2].set_text('\\n'.join(set(np.array(hcClusters).astype(str)) & set(np.array(invagClusters).astype(str))))  # Intersection\n"
   ]
  },
  {
   "cell_type": "code",
   "execution_count": 559,
   "id": "c64ba904",
   "metadata": {},
   "outputs": [
    {
     "data": {
      "image/png": "[encoded data removed]",
      "text/plain": [
       "<Figure size 300x300 with 1 Axes>"
      ]
     },
     "metadata": {},
     "output_type": "display_data"
    }
   ],
   "source": [
    "from matplotlib_venn import venn2\n",
    "\n",
    "fig, ax = plt.subplots(figsize=(3, 3))\n",
    "venn=venn2([set(np.array(hcCluster_all['AD'])[np.logical_and(np.array(hcCluster_all['AD'])!=-1,np.array(hcCluster_all_dff['AD'])<0)]), set(np.array(invagClusters_all['AD'])[np.logical_and(np.array(invagClusters_all['AD'])!=-1,np.array(invagClusters_all_diff['AD'])>0)])], set_labels=('HC clusters','Invagination clusters'))\n",
    "plt.tight_layout()\n",
    "plt.savefig(os.path.join(plotsavepath,'dapi','invag_hc_venn_lowhc.pdf'))\n",
    "# venn.subset_labels[0].set_text('\\n'.join(set(np.array(hcClusters).astype(str)) - set(np.array(invagClusters).astype(str))))  # Only HC clusters\n",
    "# venn.subset_labels[1].set_text('\\n'.join(set(np.array(invagClusters).astype(str)) - set(np.array(hcClusters).astype(str))))  # Only Invagination clusters\n",
    "# venn.subset_labels[2].set_text('\\n'.join(set(np.array(hcClusters).astype(str)) & set(np.array(invagClusters).astype(str))))  # Intersection\n"
   ]
  },
  {
   "cell_type": "code",
   "execution_count": 560,
   "id": "1fd9e69e",
   "metadata": {},
   "outputs": [
    {
     "data": {
      "text/plain": [
       "{3, 6, 15, 18, 20, 38}"
      ]
     },
     "execution_count": 560,
     "metadata": {},
     "output_type": "execute_result"
    }
   ],
   "source": [
    "set(set(np.array(hcCluster_all['AD'])[np.logical_and(np.array(hcCluster_all['AD'])!=-1,np.array(hcCluster_all_dff['AD'])<0)])- set(np.array(invagClusters_all['AD'])[np.logical_and(np.array(invagClusters_all['AD'])!=-1,np.array(invagClusters_all_diff['AD'])>0)]))\n"
   ]
  },
  {
   "cell_type": "code",
   "execution_count": 561,
   "id": "60db92a4",
   "metadata": {},
   "outputs": [
    {
     "data": {
      "text/plain": [
       "{1, 4, 5, 7, 8, 10, 21, 22, 23, 30, 34, 36, 40, 46, 49, 74}"
      ]
     },
     "execution_count": 561,
     "metadata": {},
     "output_type": "execute_result"
    }
   ],
   "source": [
    "set(set(np.array(invagClusters_all['AD'])[np.logical_and(np.array(invagClusters_all['AD'])!=-1,np.array(invagClusters_all_diff['AD'])>0)])-set(np.array(hcCluster_all['AD'])[np.logical_and(np.array(hcCluster_all['AD'])!=-1,np.array(hcCluster_all_dff['AD'])<0)]))\n"
   ]
  },
  {
   "cell_type": "code",
   "execution_count": 562,
   "id": "8750d116",
   "metadata": {},
   "outputs": [
    {
     "data": {
      "text/plain": [
       "{3, 6, 13, 15, 18, 20, 35, 38}"
      ]
     },
     "execution_count": 562,
     "metadata": {},
     "output_type": "execute_result"
    }
   ],
   "source": [
    "set(np.array(hcCluster_all['AD'])[np.logical_and(np.array(hcCluster_all['AD'])!=-1,np.array(hcCluster_all_dff['AD'])<0)])"
   ]
  },
  {
   "cell_type": "code",
   "execution_count": 563,
   "id": "5cdfc77d",
   "metadata": {},
   "outputs": [
    {
     "data": {
      "text/plain": [
       "{1, 4, 5, 7, 8, 10, 13, 21, 22, 23, 30, 34, 35, 36, 40, 46, 49, 74}"
      ]
     },
     "execution_count": 563,
     "metadata": {},
     "output_type": "execute_result"
    }
   ],
   "source": [
    "set(np.array(invagClusters_all['AD'])[np.logical_and(np.array(invagClusters_all['AD'])!=-1,np.array(invagClusters_all_diff['AD'])>0)])"
   ]
  },
  {
   "cell_type": "code",
   "execution_count": 569,
   "id": "b10a7483",
   "metadata": {},
   "outputs": [
    {
     "data": {
      "image/png": "[encoded data removed]",
      "text/plain": [
       "<Figure size 300x250 with 1 Axes>"
      ]
     },
     "metadata": {},
     "output_type": "display_data"
    }
   ],
   "source": [
    "p2plot=['AD','FTLD-TDPC','IPD','PSP']\n",
    "x=np.arange(2)\n",
    "width=0.15\n",
    "multiplier=0\n",
    "\n",
    "colors = plt.cm.Set2(np.arange(4))\n",
    "# colors = np.delete(colors, 2, axis=0) \n",
    "fig,ax=plt.subplots(figsize=(3,2.5),layout='constrained')\n",
    "for tidx in range(len(p2plot)):\n",
    "    t=p2plot[tidx]\n",
    "    offset=width*multiplier\n",
    "    counts=[len(hcCluster_all[t]),len(invagClusters_all[t])]\n",
    "    bars=ax.bar(x+offset,counts,width,label=t,color=colors[tidx])\n",
    "    multiplier+=1\n",
    "    \n",
    "ax.set_xticks(x+width,['HC','Invagination'])\n",
    "ax.legend(loc='lower left',bbox_to_anchor=(1, 0.35))\n",
    "# ax.set_ylim(0,1)\n",
    "fig.tight_layout()\n",
    "plt.savefig(os.path.join(plotsavepath,'dapi','invag_hc_clusterCounts.pdf'))"
   ]
  },
  {
   "cell_type": "code",
   "execution_count": 393,
   "id": "c9acef5f",
   "metadata": {},
   "outputs": [
    {
     "data": {
      "text/plain": [
       "'/data/xzhang/neuro/results/jointClustering/baseline/res5/cnnvaeexp0_segNucall/imgFeatures/byCluster'"
      ]
     },
     "execution_count": 393,
     "metadata": {},
     "output_type": "execute_result"
    }
   ],
   "source": [
    "plotsavepath"
   ]
  },
  {
   "cell_type": "code",
   "execution_count": 551,
   "id": "d9ca78d4",
   "metadata": {
    "scrolled": true
   },
   "outputs": [
    {
     "data": {
      "image/png": "[encoded data removed]",
      "text/plain": [
       "<Figure size 450x300 with 1 Axes>"
      ]
     },
     "metadata": {},
     "output_type": "display_data"
    },
    {
     "data": {
      "image/png": "[encoded data removed]",
      "text/plain": [
       "<Figure size 204.545x300 with 1 Axes>"
      ]
     },
     "metadata": {},
     "output_type": "display_data"
    },
    {
     "data": {
      "image/png": "[encoded data removed]",
      "text/plain": [
       "<Figure size 204.545x300 with 1 Axes>"
      ]
     },
     "metadata": {},
     "output_type": "display_data"
    },
    {
     "data": {
      "image/png": "[encoded data removed]",
      "text/plain": [
       "<Figure size 184.091x300 with 1 Axes>"
      ]
     },
     "metadata": {},
     "output_type": "display_data"
    }
   ],
   "source": [
    "#4, 7\n",
    "for p in np.unique(meta['Path Diag']):\n",
    "    if p=='Control':\n",
    "        continue\n",
    "    ad_features=np.array([])\n",
    "    clusterID_ad=np.array([])\n",
    "    clusterID_control=np.array([])\n",
    "    control_features=np.array([])\n",
    "    for cidx in range(len(hcCluster_all[p])):\n",
    "        c=hcCluster_all[p][cidx]\n",
    "        if hcCluster_all_dff[p][cidx]>0 and c!=-1:\n",
    "            ad_features_c=nmco_dapi[np.logical_and(meta.loc[allPatientIDs]['Path Diag']==p,finalPartition_keep_input==c),nmco_dapi_names=='hc_content_ec_content']\n",
    "            control_features_c=nmco_dapi[np.logical_and(meta.loc[allPatientIDs]['Path Diag']=='Control',finalPartition_keep_input==c),nmco_dapi_names=='hc_content_ec_content']\n",
    "            clusterID_ad=np.concatenate((clusterID_ad,np.repeat(str(int(c+1)),ad_features_c.size)))\n",
    "            clusterID_control=np.concatenate((clusterID_control,np.repeat(str(int(c+1)),control_features_c.size)))\n",
    "            ad_features=np.concatenate((ad_features,ad_features_c))\n",
    "            control_features=np.concatenate((control_features,control_features_c))\n",
    "    for cidx in range(len(hcCluster_all[p])):\n",
    "        c=hcCluster_all[p][cidx]\n",
    "        if hcCluster_all_dff[p][cidx]<0 and c!=-1:\n",
    "            ad_features_c=nmco_dapi[np.logical_and(meta.loc[allPatientIDs]['Path Diag']==p,finalPartition_keep_input==c),nmco_dapi_names=='hc_content_ec_content']\n",
    "            control_features_c=nmco_dapi[np.logical_and(meta.loc[allPatientIDs]['Path Diag']=='Control',finalPartition_keep_input==c),nmco_dapi_names=='hc_content_ec_content']\n",
    "            clusterID_ad=np.concatenate((clusterID_ad,np.repeat(str(int(c+1)),ad_features_c.size)))\n",
    "            clusterID_control=np.concatenate((clusterID_control,np.repeat(str(int(c+1)),control_features_c.size)))\n",
    "            ad_features=np.concatenate((ad_features,ad_features_c))\n",
    "            control_features=np.concatenate((control_features,control_features_c))\n",
    "\n",
    "    nmcoplot=pd.DataFrame({'pheno':np.concatenate((np.repeat(p,ad_features.size),np.repeat('Control',control_features.size))),'HC/EC ratio':np.concatenate((ad_features,control_features)),'cluster':np.concatenate((clusterID_ad,clusterID_control))})\n",
    "    fig,ax=plt.subplots(figsize=(4.5/(len(hcCluster_all['AD'])+3)*(len(hcCluster_all[p])+3),3),layout='constrained')\n",
    "    sns.violinplot(nmcoplot,y='HC/EC ratio',x='cluster',hue='pheno',split=True)\n",
    "    ax.legend(loc='lower left',bbox_to_anchor=(1, 0.35))\n",
    "    ax.set_xticklabels(ax.get_xticklabels(), rotation=90)\n",
    "#     plt.ylim(-2,4)\n",
    "    plt.savefig(os.path.join(plotsavepath,'dapi','hc_content_ec_content',p+'_Control_shifted.pdf'))\n",
    "    fig.tight_layout()\n",
    "    plt.show()"
   ]
  },
  {
   "cell_type": "code",
   "execution_count": 603,
   "id": "61e53131",
   "metadata": {},
   "outputs": [
    {
     "data": {
      "text/plain": [
       "'/data/xzhang/neuro/results/jointClustering/baseline/res5/cnnvaeexp0_segNucall/imgFeatures/byCluster'"
      ]
     },
     "execution_count": 603,
     "metadata": {},
     "output_type": "execute_result"
    }
   ],
   "source": [
    "plotsavepath"
   ]
  },
  {
   "cell_type": "code",
   "execution_count": 554,
   "id": "de275e55",
   "metadata": {},
   "outputs": [
    {
     "data": {
      "text/plain": [
       "array([-1,  3,  6, 13, 15, 18, 20, 35, 38])"
      ]
     },
     "execution_count": 554,
     "metadata": {},
     "output_type": "execute_result"
    }
   ],
   "source": [
    "np.array(hcCluster_all['AD'])[np.array(hcCluster_all_dff['AD'])<0]"
   ]
  },
  {
   "cell_type": "code",
   "execution_count": 531,
   "id": "268df88c",
   "metadata": {},
   "outputs": [
    {
     "name": "stdout",
     "output_type": "stream",
     "text": [
      "MAP2\n",
      "sampled\n"
     ]
    }
   ],
   "source": [
    "vidx=2\n",
    "c=7\n",
    "p='AD'\n",
    "imgSize=allImg.shape[3]\n",
    "valStains_curr=stains[vidx]\n",
    "print(valStains_curr)\n",
    "valStains_currIdx=stains.tolist().index(valStains_curr)\n",
    "nExamples=20\n",
    "# add clf and gradient\n",
    "plotExample=np.zeros((2*imgSize+2,nExamples*(imgSize+2),3))\n",
    "ad_idx=np.arange(allImg.shape[0])[np.logical_and(meta.loc[allPatientIDs]['Path Diag']==p,finalPartition_keep_input==c)]\n",
    "control_idx=np.arange(allImg.shape[0])[np.logical_and(meta.loc[allPatientIDs]['Path Diag']=='Control',finalPartition_keep_input==c)]\n",
    "\n",
    "np.random.seed(3)\n",
    "np.random.shuffle(ad_idx)\n",
    "np.random.seed(3)\n",
    "np.random.shuffle(control_idx)\n",
    "plotIdx_ad=ad_idx[:min(ad_idx.size,nExamples)]\n",
    "plotIdx_control=control_idx[:min(control_idx.size,nExamples)]\n",
    "print('sampled')\n",
    "for plotIdx_idx in range(plotIdx_ad.size):\n",
    "    plotExample[:imgSize,plotIdx_idx*(imgSize+2):plotIdx_idx*(imgSize+2)+imgSize,0]=allImg[plotIdx_ad[plotIdx_idx],valStains_currIdx]\n",
    "for plotIdx_idx in range(plotIdx_control.size):\n",
    "    plotExample[imgSize+2:,plotIdx_idx*(imgSize+2):plotIdx_idx*(imgSize+2)+imgSize,0]=allImg[plotIdx_control[plotIdx_idx],valStains_currIdx]\n",
    "plt.imsave(os.path.join(plotsavepath,'dapi','hc_content_ec_content','plotExample_'+p+'_'+str(c)+'_'+valStains_curr+'.jpg'),plotExample)\n"
   ]
  },
  {
   "cell_type": "code",
   "execution_count": null,
   "id": "41fb76c5",
   "metadata": {},
   "outputs": [],
   "source": [
    "ad_idx"
   ]
  },
  {
   "cell_type": "code",
   "execution_count": 557,
   "id": "ac222f1c",
   "metadata": {
    "scrolled": true
   },
   "outputs": [
    {
     "data": {
      "image/png": "[encoded data removed]",
      "text/plain": [
       "<Figure size 350x300 with 1 Axes>"
      ]
     },
     "metadata": {},
     "output_type": "display_data"
    },
    {
     "name": "stderr",
     "output_type": "stream",
     "text": [
      "/tmp/ipykernel_1048967/2836900901.py:22: UserWarning: constrained_layout not applied because axes sizes collapsed to zero.  Try making figure larger or axes decorations smaller.\n",
      "  plt.savefig(os.path.join(plotsavepath,'dapi','hc_content_ec_content',p+'_Control_invag_shifted.pdf'))\n",
      "/tmp/ipykernel_1048967/2836900901.py:22: UserWarning: constrained_layout not applied because axes sizes collapsed to zero.  Try making figure larger or axes decorations smaller.\n",
      "  plt.savefig(os.path.join(plotsavepath,'dapi','hc_content_ec_content',p+'_Control_invag_shifted.pdf'))\n",
      "/tmp/ipykernel_1048967/2836900901.py:23: UserWarning: Tight layout not applied. The left and right margins cannot be made large enough to accommodate all axes decorations.\n",
      "  fig.tight_layout()\n"
     ]
    },
    {
     "data": {
      "image/png": "[encoded data removed]",
      "text/plain": [
       "<Figure size 159.091x300 with 1 Axes>"
      ]
     },
     "metadata": {},
     "output_type": "display_data"
    },
    {
     "name": "stderr",
     "output_type": "stream",
     "text": [
      "/tmp/ipykernel_1048967/2836900901.py:22: UserWarning: constrained_layout not applied because axes sizes collapsed to zero.  Try making figure larger or axes decorations smaller.\n",
      "  plt.savefig(os.path.join(plotsavepath,'dapi','hc_content_ec_content',p+'_Control_invag_shifted.pdf'))\n",
      "/tmp/ipykernel_1048967/2836900901.py:22: UserWarning: constrained_layout not applied because axes sizes collapsed to zero.  Try making figure larger or axes decorations smaller.\n",
      "  plt.savefig(os.path.join(plotsavepath,'dapi','hc_content_ec_content',p+'_Control_invag_shifted.pdf'))\n",
      "/tmp/ipykernel_1048967/2836900901.py:23: UserWarning: Tight layout not applied. The left and right margins cannot be made large enough to accommodate all axes decorations.\n",
      "  fig.tight_layout()\n"
     ]
    },
    {
     "data": {
      "image/png": "[encoded data removed]",
      "text/plain": [
       "<Figure size 159.091x300 with 1 Axes>"
      ]
     },
     "metadata": {},
     "output_type": "display_data"
    },
    {
     "name": "stderr",
     "output_type": "stream",
     "text": [
      "/tmp/ipykernel_1048967/2836900901.py:22: UserWarning: constrained_layout not applied because axes sizes collapsed to zero.  Try making figure larger or axes decorations smaller.\n",
      "  plt.savefig(os.path.join(plotsavepath,'dapi','hc_content_ec_content',p+'_Control_invag_shifted.pdf'))\n",
      "/tmp/ipykernel_1048967/2836900901.py:22: UserWarning: constrained_layout not applied because axes sizes collapsed to zero.  Try making figure larger or axes decorations smaller.\n",
      "  plt.savefig(os.path.join(plotsavepath,'dapi','hc_content_ec_content',p+'_Control_invag_shifted.pdf'))\n",
      "/tmp/ipykernel_1048967/2836900901.py:23: UserWarning: Tight layout not applied. The left and right margins cannot be made large enough to accommodate all axes decorations.\n",
      "  fig.tight_layout()\n"
     ]
    },
    {
     "data": {
      "image/png": "[encoded data removed]",
      "text/plain": [
       "<Figure size 143.182x300 with 1 Axes>"
      ]
     },
     "metadata": {},
     "output_type": "display_data"
    }
   ],
   "source": [
    "#4, 7\n",
    "for p in np.unique(meta['Path Diag']):\n",
    "    if p=='Control':\n",
    "        continue\n",
    "    ad_features=np.array([])\n",
    "    clusterID_ad=np.array([])\n",
    "    clusterID_control=np.array([])\n",
    "    control_features=np.array([])\n",
    "    for c in np.array(hcCluster_all[p])[np.array(hcCluster_all_dff[p])>0]:\n",
    "        ad_features_c=nmco_lmnb[np.logical_and(meta.loc[allPatientIDs]['Path Diag']==p,finalPartition_keep_input==c),nmco_lmnb_names=='invagination']\n",
    "        control_features_c=nmco_lmnb[np.logical_and(meta.loc[allPatientIDs]['Path Diag']=='Control',finalPartition_keep_input==c),nmco_lmnb_names=='invagination']\n",
    "        clusterID_ad=np.concatenate((clusterID_ad,np.repeat(str(int(c)+1),ad_features_c.size)))\n",
    "        clusterID_control=np.concatenate((clusterID_control,np.repeat(str(int(c)+1),control_features_c.size)))\n",
    "        ad_features=np.concatenate((ad_features,ad_features_c))\n",
    "        control_features=np.concatenate((control_features,control_features_c))\n",
    "\n",
    "    fig,ax=plt.subplots(figsize=(3.5/(len(hcCluster_all['AD'])+3)*(len(hcCluster_all[p])+3),3),layout='constrained')\n",
    "    nmcoplot=pd.DataFrame({'pheno':np.concatenate((np.repeat(p,ad_features.size),np.repeat('Control',control_features.size))),'Invagination':np.concatenate((ad_features,control_features)),'cluster':np.concatenate((clusterID_ad,clusterID_control))})\n",
    "    sns.violinplot(nmcoplot,y='Invagination',x='cluster',hue='pheno',split=True)\n",
    "#     plt.ylim(-2,5)\n",
    "    ax.legend(loc='lower left',bbox_to_anchor=(1, 0.35))\n",
    "    plt.savefig(os.path.join(plotsavepath,'dapi','hc_content_ec_content',p+'_Control_invag_shifted.pdf'))\n",
    "    fig.tight_layout()\n",
    "    plt.show()"
   ]
  }
 ],
 "metadata": {
  "kernelspec": {
   "display_name": "Python 3 (ipykernel)",
   "language": "python",
   "name": "python3"
  },
  "language_info": {
   "codemirror_mode": {
    "name": "ipython",
    "version": 3
   },
   "file_extension": ".py",
   "mimetype": "text/x-python",
   "name": "python",
   "nbconvert_exporter": "python",
   "pygments_lexer": "ipython3",
   "version": "3.10.8"
  }
 },
 "nbformat": 4,
 "nbformat_minor": 5
}
